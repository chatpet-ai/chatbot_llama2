{
 "cells": [
  {
   "cell_type": "markdown",
   "metadata": {
    "id": "UWeuScHlWOok"
   },
   "source": [
    "# Mount google drive"
   ]
  },
  {
   "cell_type": "code",
   "execution_count": 1,
   "metadata": {
    "colab": {
     "base_uri": "https://localhost:8080/"
    },
    "executionInfo": {
     "elapsed": 19,
     "status": "ok",
     "timestamp": 1692621908211,
     "user": {
      "displayName": "Jie Ke",
      "userId": "13821873407880707566"
     },
     "user_tz": -480
    },
    "id": "suNJHpbIWtV0",
    "outputId": "168085a1-adf4-48e0-9962-163ec89d1eea"
   },
   "outputs": [
    {
     "name": "stdout",
     "output_type": "stream",
     "text": [
      "Tue Aug 22 17:49:07 2023       \n",
      "+---------------------------------------------------------------------------------------+\n",
      "| NVIDIA-SMI 535.86.01              Driver Version: 536.67       CUDA Version: 12.2     |\n",
      "|-----------------------------------------+----------------------+----------------------+\n",
      "| GPU  Name                 Persistence-M | Bus-Id        Disp.A | Volatile Uncorr. ECC |\n",
      "| Fan  Temp   Perf          Pwr:Usage/Cap |         Memory-Usage | GPU-Util  Compute M. |\n",
      "|                                         |                      |               MIG M. |\n",
      "|=========================================+======================+======================|\n",
      "|   0  NVIDIA GeForce GTX 1080        On  | 00000000:01:00.0 Off |                  N/A |\n",
      "|  0%   38C    P8               9W / 198W |      0MiB /  8192MiB |      0%      Default |\n",
      "|                                         |                      |                  N/A |\n",
      "+-----------------------------------------+----------------------+----------------------+\n",
      "                                                                                         \n",
      "+---------------------------------------------------------------------------------------+\n",
      "| Processes:                                                                            |\n",
      "|  GPU   GI   CI        PID   Type   Process name                            GPU Memory |\n",
      "|        ID   ID                                                             Usage      |\n",
      "|=======================================================================================|\n",
      "|    0   N/A  N/A        23      G   /Xwayland                                 N/A      |\n",
      "+---------------------------------------------------------------------------------------+\n"
     ]
    }
   ],
   "source": [
    "!nvidia-smi"
   ]
  },
  {
   "cell_type": "markdown",
   "metadata": {
    "id": "Z9fecVpcWi6Z"
   },
   "source": [
    "# Import dependencies"
   ]
  },
  {
   "cell_type": "code",
   "execution_count": 2,
   "metadata": {},
   "outputs": [
    {
     "name": "stdout",
     "output_type": "stream",
     "text": [
      "Defaulting to user installation because normal site-packages is not writeable\n",
      "Looking in indexes: https://download.pytorch.org/whl/cu118\n",
      "Requirement already satisfied: torch in /home/voyagerke/.local/lib/python3.10/site-packages (2.0.1)\n",
      "Requirement already satisfied: torchvision in /home/voyagerke/.local/lib/python3.10/site-packages (0.15.2)\n",
      "Requirement already satisfied: torchaudio in /home/voyagerke/.local/lib/python3.10/site-packages (2.0.2)\n",
      "Requirement already satisfied: filelock in /home/voyagerke/.local/lib/python3.10/site-packages (from torch) (3.12.2)\n",
      "Requirement already satisfied: typing-extensions in /home/voyagerke/.local/lib/python3.10/site-packages (from torch) (4.7.1)\n",
      "Requirement already satisfied: sympy in /home/voyagerke/.local/lib/python3.10/site-packages (from torch) (1.12)\n",
      "Requirement already satisfied: networkx in /home/voyagerke/.local/lib/python3.10/site-packages (from torch) (3.1)\n",
      "Requirement already satisfied: jinja2 in /home/voyagerke/.local/lib/python3.10/site-packages (from torch) (3.1.2)\n",
      "Requirement already satisfied: nvidia-cuda-nvrtc-cu11==11.7.99 in /home/voyagerke/.local/lib/python3.10/site-packages (from torch) (11.7.99)\n",
      "Requirement already satisfied: nvidia-cuda-runtime-cu11==11.7.99 in /home/voyagerke/.local/lib/python3.10/site-packages (from torch) (11.7.99)\n",
      "Requirement already satisfied: nvidia-cuda-cupti-cu11==11.7.101 in /home/voyagerke/.local/lib/python3.10/site-packages (from torch) (11.7.101)\n",
      "Requirement already satisfied: nvidia-cudnn-cu11==8.5.0.96 in /home/voyagerke/.local/lib/python3.10/site-packages (from torch) (8.5.0.96)\n",
      "Requirement already satisfied: nvidia-cublas-cu11==11.10.3.66 in /home/voyagerke/.local/lib/python3.10/site-packages (from torch) (11.10.3.66)\n",
      "Requirement already satisfied: nvidia-cufft-cu11==10.9.0.58 in /home/voyagerke/.local/lib/python3.10/site-packages (from torch) (10.9.0.58)\n",
      "Requirement already satisfied: nvidia-curand-cu11==10.2.10.91 in /home/voyagerke/.local/lib/python3.10/site-packages (from torch) (10.2.10.91)\n",
      "Requirement already satisfied: nvidia-cusolver-cu11==11.4.0.1 in /home/voyagerke/.local/lib/python3.10/site-packages (from torch) (11.4.0.1)\n",
      "Requirement already satisfied: nvidia-cusparse-cu11==11.7.4.91 in /home/voyagerke/.local/lib/python3.10/site-packages (from torch) (11.7.4.91)\n",
      "Requirement already satisfied: nvidia-nccl-cu11==2.14.3 in /home/voyagerke/.local/lib/python3.10/site-packages (from torch) (2.14.3)\n",
      "Requirement already satisfied: nvidia-nvtx-cu11==11.7.91 in /home/voyagerke/.local/lib/python3.10/site-packages (from torch) (11.7.91)\n",
      "Requirement already satisfied: triton==2.0.0 in /home/voyagerke/.local/lib/python3.10/site-packages (from torch) (2.0.0)\n",
      "Requirement already satisfied: setuptools in /usr/local/lib/python3.10/dist-packages (from nvidia-cublas-cu11==11.10.3.66->torch) (68.0.0)\n",
      "Requirement already satisfied: wheel in /usr/local/lib/python3.10/dist-packages (from nvidia-cublas-cu11==11.10.3.66->torch) (0.41.1)\n",
      "Requirement already satisfied: cmake in /home/voyagerke/.local/lib/python3.10/site-packages (from triton==2.0.0->torch) (3.27.2)\n",
      "Requirement already satisfied: lit in /home/voyagerke/.local/lib/python3.10/site-packages (from triton==2.0.0->torch) (16.0.6)\n",
      "Requirement already satisfied: numpy in /home/voyagerke/.local/lib/python3.10/site-packages (from torchvision) (1.25.2)\n",
      "Requirement already satisfied: requests in /home/voyagerke/.local/lib/python3.10/site-packages (from torchvision) (2.31.0)\n",
      "Requirement already satisfied: pillow!=8.3.*,>=5.3.0 in /home/voyagerke/.local/lib/python3.10/site-packages (from torchvision) (10.0.0)\n",
      "Requirement already satisfied: MarkupSafe>=2.0 in /home/voyagerke/.local/lib/python3.10/site-packages (from jinja2->torch) (2.1.3)\n",
      "Requirement already satisfied: charset-normalizer<4,>=2 in /home/voyagerke/.local/lib/python3.10/site-packages (from requests->torchvision) (3.2.0)\n",
      "Requirement already satisfied: idna<4,>=2.5 in /home/voyagerke/.local/lib/python3.10/site-packages (from requests->torchvision) (3.4)\n",
      "Requirement already satisfied: urllib3<3,>=1.21.1 in /home/voyagerke/.local/lib/python3.10/site-packages (from requests->torchvision) (2.0.4)\n",
      "Requirement already satisfied: certifi>=2017.4.17 in /home/voyagerke/.local/lib/python3.10/site-packages (from requests->torchvision) (2023.7.22)\n",
      "Requirement already satisfied: mpmath>=0.19 in /home/voyagerke/.local/lib/python3.10/site-packages (from sympy->torch) (1.3.0)\n",
      "\u001b[33mDEPRECATION: distro-info 1.1build1 has a non-standard version number. pip 23.3 will enforce this behaviour change. A possible replacement is to upgrade to a newer version of distro-info or contact the author to suggest that they release a version with a conforming version number. Discussion can be found at https://github.com/pypa/pip/issues/12063\u001b[0m\u001b[33m\n",
      "\u001b[0m"
     ]
    }
   ],
   "source": [
    "!pip3 install torch torchvision torchaudio --index-url https://download.pytorch.org/whl/cu118"
   ]
  },
  {
   "cell_type": "code",
   "execution_count": 3,
   "metadata": {
    "colab": {
     "base_uri": "https://localhost:8080/"
    },
    "executionInfo": {
     "elapsed": 37361,
     "status": "ok",
     "timestamp": 1692621959437,
     "user": {
      "displayName": "Jie Ke",
      "userId": "13821873407880707566"
     },
     "user_tz": -480
    },
    "id": "DmEzbXOHWiT2",
    "outputId": "49ddae91-2815-4a79-9ee6-2720ae02e50a",
    "scrolled": true
   },
   "outputs": [
    {
     "name": "stdout",
     "output_type": "stream",
     "text": [
      "Defaulting to user installation because normal site-packages is not writeable\n",
      "Requirement already satisfied: jsons in /home/voyagerke/.local/lib/python3.10/site-packages (1.6.3)\n",
      "Requirement already satisfied: typish>=1.9.2 in /home/voyagerke/.local/lib/python3.10/site-packages (from jsons) (1.9.3)\n",
      "\u001b[33mDEPRECATION: distro-info 1.1build1 has a non-standard version number. pip 23.3 will enforce this behaviour change. A possible replacement is to upgrade to a newer version of distro-info or contact the author to suggest that they release a version with a conforming version number. Discussion can be found at https://github.com/pypa/pip/issues/12063\u001b[0m\u001b[33m\n",
      "\u001b[0mDefaulting to user installation because normal site-packages is not writeable\n",
      "Requirement already satisfied: langchain in /home/voyagerke/.local/lib/python3.10/site-packages (0.0.268)\n",
      "Requirement already satisfied: PyYAML>=5.3 in /usr/lib/python3/dist-packages (from langchain) (5.4.1)\n",
      "Requirement already satisfied: SQLAlchemy<3,>=1.4 in /home/voyagerke/.local/lib/python3.10/site-packages (from langchain) (2.0.20)\n",
      "Requirement already satisfied: aiohttp<4.0.0,>=3.8.3 in /home/voyagerke/.local/lib/python3.10/site-packages (from langchain) (3.8.5)\n",
      "Requirement already satisfied: async-timeout<5.0.0,>=4.0.0 in /home/voyagerke/.local/lib/python3.10/site-packages (from langchain) (4.0.3)\n",
      "Requirement already satisfied: dataclasses-json<0.6.0,>=0.5.7 in /home/voyagerke/.local/lib/python3.10/site-packages (from langchain) (0.5.14)\n",
      "Requirement already satisfied: langsmith<0.1.0,>=0.0.21 in /home/voyagerke/.local/lib/python3.10/site-packages (from langchain) (0.0.25)\n",
      "Requirement already satisfied: numexpr<3.0.0,>=2.8.4 in /home/voyagerke/.local/lib/python3.10/site-packages (from langchain) (2.8.5)\n",
      "Requirement already satisfied: numpy<2,>=1 in /home/voyagerke/.local/lib/python3.10/site-packages (from langchain) (1.25.2)\n",
      "Requirement already satisfied: pydantic<3,>=1 in /home/voyagerke/.local/lib/python3.10/site-packages (from langchain) (1.10.12)\n",
      "Requirement already satisfied: requests<3,>=2 in /home/voyagerke/.local/lib/python3.10/site-packages (from langchain) (2.31.0)\n",
      "Requirement already satisfied: tenacity<9.0.0,>=8.1.0 in /home/voyagerke/.local/lib/python3.10/site-packages (from langchain) (8.2.3)\n",
      "Requirement already satisfied: attrs>=17.3.0 in /home/voyagerke/.local/lib/python3.10/site-packages (from aiohttp<4.0.0,>=3.8.3->langchain) (23.1.0)\n",
      "Requirement already satisfied: charset-normalizer<4.0,>=2.0 in /home/voyagerke/.local/lib/python3.10/site-packages (from aiohttp<4.0.0,>=3.8.3->langchain) (3.2.0)\n",
      "Requirement already satisfied: multidict<7.0,>=4.5 in /home/voyagerke/.local/lib/python3.10/site-packages (from aiohttp<4.0.0,>=3.8.3->langchain) (6.0.4)\n",
      "Requirement already satisfied: yarl<2.0,>=1.0 in /home/voyagerke/.local/lib/python3.10/site-packages (from aiohttp<4.0.0,>=3.8.3->langchain) (1.9.2)\n",
      "Requirement already satisfied: frozenlist>=1.1.1 in /home/voyagerke/.local/lib/python3.10/site-packages (from aiohttp<4.0.0,>=3.8.3->langchain) (1.4.0)\n",
      "Requirement already satisfied: aiosignal>=1.1.2 in /home/voyagerke/.local/lib/python3.10/site-packages (from aiohttp<4.0.0,>=3.8.3->langchain) (1.3.1)\n",
      "Requirement already satisfied: marshmallow<4.0.0,>=3.18.0 in /home/voyagerke/.local/lib/python3.10/site-packages (from dataclasses-json<0.6.0,>=0.5.7->langchain) (3.20.1)\n",
      "Requirement already satisfied: typing-inspect<1,>=0.4.0 in /home/voyagerke/.local/lib/python3.10/site-packages (from dataclasses-json<0.6.0,>=0.5.7->langchain) (0.9.0)\n",
      "Requirement already satisfied: typing-extensions>=4.2.0 in /home/voyagerke/.local/lib/python3.10/site-packages (from pydantic<3,>=1->langchain) (4.7.1)\n",
      "Requirement already satisfied: idna<4,>=2.5 in /home/voyagerke/.local/lib/python3.10/site-packages (from requests<3,>=2->langchain) (3.4)\n",
      "Requirement already satisfied: urllib3<3,>=1.21.1 in /home/voyagerke/.local/lib/python3.10/site-packages (from requests<3,>=2->langchain) (2.0.4)\n",
      "Requirement already satisfied: certifi>=2017.4.17 in /home/voyagerke/.local/lib/python3.10/site-packages (from requests<3,>=2->langchain) (2023.7.22)\n",
      "Requirement already satisfied: greenlet!=0.4.17 in /home/voyagerke/.local/lib/python3.10/site-packages (from SQLAlchemy<3,>=1.4->langchain) (2.0.2)\n",
      "Requirement already satisfied: packaging>=17.0 in /home/voyagerke/.local/lib/python3.10/site-packages (from marshmallow<4.0.0,>=3.18.0->dataclasses-json<0.6.0,>=0.5.7->langchain) (23.1)\n",
      "Requirement already satisfied: mypy-extensions>=0.3.0 in /home/voyagerke/.local/lib/python3.10/site-packages (from typing-inspect<1,>=0.4.0->dataclasses-json<0.6.0,>=0.5.7->langchain) (1.0.0)\n",
      "\u001b[33mDEPRECATION: distro-info 1.1build1 has a non-standard version number. pip 23.3 will enforce this behaviour change. A possible replacement is to upgrade to a newer version of distro-info or contact the author to suggest that they release a version with a conforming version number. Discussion can be found at https://github.com/pypa/pip/issues/12063\u001b[0m\u001b[33m\n",
      "\u001b[0mDefaulting to user installation because normal site-packages is not writeable\n",
      "Requirement already satisfied: textwrap3 in /home/voyagerke/.local/lib/python3.10/site-packages (0.9.2)\n",
      "\u001b[33mDEPRECATION: distro-info 1.1build1 has a non-standard version number. pip 23.3 will enforce this behaviour change. A possible replacement is to upgrade to a newer version of distro-info or contact the author to suggest that they release a version with a conforming version number. Discussion can be found at https://github.com/pypa/pip/issues/12063\u001b[0m\u001b[33m\n",
      "\u001b[0m"
     ]
    }
   ],
   "source": [
    "!pip install jsons\n",
    "!pip install langchain\n",
    "!pip install textwrap3"
   ]
  },
  {
   "cell_type": "code",
   "execution_count": 4,
   "metadata": {
    "colab": {
     "base_uri": "https://localhost:8080/"
    },
    "executionInfo": {
     "elapsed": 22882,
     "status": "ok",
     "timestamp": 1692621982303,
     "user": {
      "displayName": "Jie Ke",
      "userId": "13821873407880707566"
     },
     "user_tz": -480
    },
    "id": "tsaxyjhoXwY4",
    "outputId": "25522acb-c703-4fbf-88d9-601953f14121"
   },
   "outputs": [
    {
     "name": "stdout",
     "output_type": "stream",
     "text": [
      "Defaulting to user installation because normal site-packages is not writeable\n",
      "Requirement already satisfied: transformers in /home/voyagerke/.local/lib/python3.10/site-packages (4.31.0)\n",
      "Requirement already satisfied: filelock in /home/voyagerke/.local/lib/python3.10/site-packages (from transformers) (3.12.2)\n",
      "Requirement already satisfied: huggingface-hub<1.0,>=0.14.1 in /home/voyagerke/.local/lib/python3.10/site-packages (from transformers) (0.16.4)\n",
      "Requirement already satisfied: numpy>=1.17 in /home/voyagerke/.local/lib/python3.10/site-packages (from transformers) (1.25.2)\n",
      "Requirement already satisfied: packaging>=20.0 in /home/voyagerke/.local/lib/python3.10/site-packages (from transformers) (23.1)\n",
      "Requirement already satisfied: pyyaml>=5.1 in /usr/lib/python3/dist-packages (from transformers) (5.4.1)\n",
      "Requirement already satisfied: regex!=2019.12.17 in /home/voyagerke/.local/lib/python3.10/site-packages (from transformers) (2023.8.8)\n",
      "Requirement already satisfied: requests in /home/voyagerke/.local/lib/python3.10/site-packages (from transformers) (2.31.0)\n",
      "Requirement already satisfied: tokenizers!=0.11.3,<0.14,>=0.11.1 in /home/voyagerke/.local/lib/python3.10/site-packages (from transformers) (0.13.3)\n",
      "Requirement already satisfied: safetensors>=0.3.1 in /home/voyagerke/.local/lib/python3.10/site-packages (from transformers) (0.3.2)\n",
      "Requirement already satisfied: tqdm>=4.27 in /home/voyagerke/.local/lib/python3.10/site-packages (from transformers) (4.66.1)\n",
      "Requirement already satisfied: fsspec in /home/voyagerke/.local/lib/python3.10/site-packages (from huggingface-hub<1.0,>=0.14.1->transformers) (2023.6.0)\n",
      "Requirement already satisfied: typing-extensions>=3.7.4.3 in /home/voyagerke/.local/lib/python3.10/site-packages (from huggingface-hub<1.0,>=0.14.1->transformers) (4.7.1)\n",
      "Requirement already satisfied: charset-normalizer<4,>=2 in /home/voyagerke/.local/lib/python3.10/site-packages (from requests->transformers) (3.2.0)\n",
      "Requirement already satisfied: idna<4,>=2.5 in /home/voyagerke/.local/lib/python3.10/site-packages (from requests->transformers) (3.4)\n",
      "Requirement already satisfied: urllib3<3,>=1.21.1 in /home/voyagerke/.local/lib/python3.10/site-packages (from requests->transformers) (2.0.4)\n",
      "Requirement already satisfied: certifi>=2017.4.17 in /home/voyagerke/.local/lib/python3.10/site-packages (from requests->transformers) (2023.7.22)\n",
      "\u001b[33mDEPRECATION: distro-info 1.1build1 has a non-standard version number. pip 23.3 will enforce this behaviour change. A possible replacement is to upgrade to a newer version of distro-info or contact the author to suggest that they release a version with a conforming version number. Discussion can be found at https://github.com/pypa/pip/issues/12063\u001b[0m\u001b[33m\n",
      "\u001b[0m"
     ]
    }
   ],
   "source": [
    "!pip install transformers"
   ]
  },
  {
   "cell_type": "code",
   "execution_count": 5,
   "metadata": {
    "colab": {
     "base_uri": "https://localhost:8080/"
    },
    "executionInfo": {
     "elapsed": 6606,
     "status": "ok",
     "timestamp": 1692621988892,
     "user": {
      "displayName": "Jie Ke",
      "userId": "13821873407880707566"
     },
     "user_tz": -480
    },
    "id": "kLZniEJKYqtV",
    "outputId": "a573c464-0c50-458b-aa56-e126a908c13b"
   },
   "outputs": [
    {
     "name": "stdout",
     "output_type": "stream",
     "text": [
      "Defaulting to user installation because normal site-packages is not writeable\n",
      "Requirement already satisfied: pypdf in /home/voyagerke/.local/lib/python3.10/site-packages (3.15.2)\n",
      "\u001b[33mDEPRECATION: distro-info 1.1build1 has a non-standard version number. pip 23.3 will enforce this behaviour change. A possible replacement is to upgrade to a newer version of distro-info or contact the author to suggest that they release a version with a conforming version number. Discussion can be found at https://github.com/pypa/pip/issues/12063\u001b[0m\u001b[33m\n",
      "\u001b[0m"
     ]
    }
   ],
   "source": [
    "!pip install pypdf"
   ]
  },
  {
   "cell_type": "code",
   "execution_count": 6,
   "metadata": {
    "colab": {
     "base_uri": "https://localhost:8080/"
    },
    "executionInfo": {
     "elapsed": 16249,
     "status": "ok",
     "timestamp": 1692622005139,
     "user": {
      "displayName": "Jie Ke",
      "userId": "13821873407880707566"
     },
     "user_tz": -480
    },
    "id": "OA9hk_yKWfHL",
    "outputId": "41c2ae9d-91f3-4974-b781-f00ccb055b6b"
   },
   "outputs": [
    {
     "name": "stderr",
     "output_type": "stream",
     "text": [
      "/home/voyagerke/.local/lib/python3.10/site-packages/tqdm/auto.py:21: TqdmWarning: IProgress not found. Please update jupyter and ipywidgets. See https://ipywidgets.readthedocs.io/en/stable/user_install.html\n",
      "  from .autonotebook import tqdm as notebook_tqdm\n"
     ]
    }
   ],
   "source": [
    "import torch\n",
    "from langchain.text_splitter import RecursiveCharacterTextSplitter\n",
    "from langchain.vectorstores import Chroma\n",
    "from langchain.embeddings import HuggingFaceInstructEmbeddings\n",
    "\n",
    "from langchain import HuggingFacePipeline\n",
    "from langchain import PromptTemplate,  LLMChain\n",
    "from langchain.chains import RetrievalQA\n",
    "from transformers import AutoModelForCausalLM, AutoTokenizer, GenerationConfig\n",
    "from langchain.document_loaders import PyPDFLoader\n",
    "from transformers import pipeline\n",
    "import json\n",
    "import textwrap"
   ]
  },
  {
   "cell_type": "markdown",
   "metadata": {
    "id": "L-Dlwy-mYMMh"
   },
   "source": [
    "# Ingest pdf file"
   ]
  },
  {
   "cell_type": "code",
   "execution_count": 53,
   "metadata": {
    "executionInfo": {
     "elapsed": 16,
     "status": "ok",
     "timestamp": 1692622005139,
     "user": {
      "displayName": "Jie Ke",
      "userId": "13821873407880707566"
     },
     "user_tz": -480
    },
    "id": "RCIPcukLYOm9"
   },
   "outputs": [],
   "source": [
    "pdf_file_path = \"./productdesc-supportplans.pdf\"\n",
    "# pdf_file_path = \"./attention is all you need.pdf\""
   ]
  },
  {
   "cell_type": "code",
   "execution_count": 54,
   "metadata": {
    "executionInfo": {
     "elapsed": 1484,
     "status": "ok",
     "timestamp": 1692622006608,
     "user": {
      "displayName": "Jie Ke",
      "userId": "13821873407880707566"
     },
     "user_tz": -480
    },
    "id": "ox0FJhOYYfwC"
   },
   "outputs": [],
   "source": [
    "pdf_loader = PyPDFLoader(pdf_file_path)\n",
    "text_splitter = RecursiveCharacterTextSplitter(chunk_size=300, chunk_overlap=0)\n",
    "splitted_docs = text_splitter.split_documents(pdf_loader.load())"
   ]
  },
  {
   "cell_type": "code",
   "execution_count": 55,
   "metadata": {
    "colab": {
     "base_uri": "https://localhost:8080/"
    },
    "executionInfo": {
     "elapsed": 6,
     "status": "ok",
     "timestamp": 1692622006608,
     "user": {
      "displayName": "Jie Ke",
      "userId": "13821873407880707566"
     },
     "user_tz": -480
    },
    "id": "SD929TvlYxaR",
    "outputId": "969ed343-78ae-413c-9285-ae6ea37da39a",
    "scrolled": true
   },
   "outputs": [
    {
     "name": "stdout",
     "output_type": "stream",
     "text": [
      "[Document(page_content='支持计划\\n产品介绍文档版本 01 发布日期 2022-11-23\\n华为技术有限公司', metadata={'source': './productdesc-supportplans.pdf', 'page': 0}), Document(page_content='版权所有  © 华为技术有限公司  2023。 保留一切权利。\\n非经本公司书面许可，任何单位和个人不得擅自摘抄、复制本文档内容的部分或全部，并不得以任何形式传\\n播。 商标声明\\n和其他华为商标均为华为技术有限公司的商标。\\n本文档提及的其他所有商标或注册商标，由各自的所有人拥有。 注意\\n您购买的产品、服务或特性等应受华为公司商业合同和条款的约束，本文档中描述的全部或部分产品、服务或\\n特性可能不在您的购买或使用范围之内。除非合同另有约定，华为公司对本文档内容不做任何明示或暗示的声\\n明或保证。\\n由于产品版本升级或其他原因，本文档内容会不定期进行更新。除非另有约定，本文档仅作为使用指导，本文', metadata={'source': './productdesc-supportplans.pdf', 'page': 1}), Document(page_content='档中的所有陈述、信息和建议不构成任何明示或暗示的担保。       华为技术有限公司地址：深圳市龙岗区坂田华为总部办公楼  邮编： 518129 网址：https://www.huawei.com客户服务邮箱：support@huawei.com客户服务电话：4008302118文档版本  01 (2022-11-23)版权所有  © 华为技术有限公司i', metadata={'source': './productdesc-supportplans.pdf', 'page': 1}), Document(page_content='目 录\\n1 什么是支持计划 .......................................................................................................................... 1\\n2 产品规格 ......................................................................................................................................2', metadata={'source': './productdesc-supportplans.pdf', 'page': 2}), Document(page_content='3 服务目录 ......................................................................................................................................3\\n4 服务范围 ......................................................................................................................................6', metadata={'source': './productdesc-supportplans.pdf', 'page': 2}), Document(page_content='5 服务内容 ......................................................................................................................................7', metadata={'source': './productdesc-supportplans.pdf', 'page': 2}), Document(page_content='5.1 支持方式 ......................................................................................................................................................................................7', metadata={'source': './productdesc-supportplans.pdf', 'page': 2}), Document(page_content='5.2 支持计划响应 SLA.................................................................................................................................................................... 8', metadata={'source': './productdesc-supportplans.pdf', 'page': 2}), Document(page_content='5.3 第三方软件支持 .........................................................................................................................................................................9', metadata={'source': './productdesc-supportplans.pdf', 'page': 2}), Document(page_content='5.4 架构支持 ................................................................................................................................................................................... 10', metadata={'source': './productdesc-supportplans.pdf', 'page': 2}), Document(page_content='5.5 可用性检查 ............................................................................................................................................................................... 10', metadata={'source': './productdesc-supportplans.pdf', 'page': 2}), Document(page_content='5.6 资源监控与优化 ...................................................................................................................................................................... 11', metadata={'source': './productdesc-supportplans.pdf', 'page': 2}), Document(page_content='5.7 企业优护计划 ...........................................................................................................................................................................11', metadata={'source': './productdesc-supportplans.pdf', 'page': 2}), Document(page_content='5.8 企业服务月报 ...........................................................................................................................................................................12', metadata={'source': './productdesc-supportplans.pdf', 'page': 2}), Document(page_content='5.9 云上保障护航服务（基础版） ............................................................................................................................................ 13', metadata={'source': './productdesc-supportplans.pdf', 'page': 2}), Document(page_content='6 计费说明 ....................................................................................................................................15\\n7 修订记录 ....................................................................................................................................17支持计划', metadata={'source': './productdesc-supportplans.pdf', 'page': 2}), Document(page_content='产品介绍 目 录文档版本  01 (2022-11-23)版权所有  © 华为技术有限公司ii', metadata={'source': './productdesc-supportplans.pdf', 'page': 2}), Document(page_content='1 什么是支持计划\\n支持计划是华为云服务的售后支持产品套餐包，是获取华为云服务技术支持的渠道。\\n服务内容涵盖华为云产品使用、基于华为云产品的架构部署、解决方案等方面的技术\\n支持，支持方式包括工单、热线电话、 IM企业群等。支持计划提供基础级、开发者\\n级、商业级、企业级四个支持等级，可满足不同规模和技术能力的客户，客户可根据\\n对响应时间与服务内容的需求灵活选择。\\n支持计划服务可按包年 /包月订购，如果包年订购商业级或企业级支持计划，还可获赠\\n相关额外服务。通过华为云支持计划，华为云技术人员为客户提供主动、专业的支持\\n服务，帮助客户聚焦基于华为云产品创造业务价值。华为云支持计划服务范围如 服务', metadata={'source': './productdesc-supportplans.pdf', 'page': 3}), Document(page_content='范围所示。支持计划\\n产品介绍 1 什么是支持计划文档版本  01 (2022-11-23)版权所有  © 华为技术有限公司1', metadata={'source': './productdesc-supportplans.pdf', 'page': 3}), Document(page_content='2 产品规格\\n客户可根据项目预算、自身云技术储备、业务重要性及规模来选择适合自己的支持计\\n划产品：\\n表2-1 产品规格支持级别关键特性适用场景基础级基本的案例响应时间个人用户或小型企业简单云部署场\\n景开发者级较快的案例响应时间个人用户或小型企业部署实验、测\\n试环境或非关键生产环境商业级最快的案例响应时间，并附\\n赠部分增值服务（包年购买\\n提供）中大型企业多种类较大规模云部署\\n场景，要求较高的问题响应速度，\\n业务可用性要求较高企业级最快的案例响应时间，配置\\nTAM，并附赠大量增值服务\\n（包年购买提供）大型企业多种类超大规模云部署场\\n景，要求很高的问题响应速度，业\\n务可用性要求高支持计划', metadata={'source': './productdesc-supportplans.pdf', 'page': 4}), Document(page_content='产品介绍 2 产品规格文档版本  01 (2022-11-23)版权所有  © 华为技术有限公司2', metadata={'source': './productdesc-supportplans.pdf', 'page': 4}), Document(page_content='3 服务目录\\n表3-1 支持计划服务内容服务项目基础级开发者级商业级企业级热线电话7x24小时7x24小时7x24小时7x24小时云产品工单7x24小时7x24小时7x24小时7x24小时企业电话专\\n线--支持支持IM企业群--支持支持案例严重\\n性/响应时\\n间一个工作日之\\n内受理生产系统不可\\n用<30分钟\\n生产系统异常\\n<3小时\\n系统异常 <8小\\n时\\n一般性指导\\n<16小时核心生产系统不\\n可用<10分钟\\n生产系统不可用\\n<30分钟\\n生产系统异常 <3\\n小时\\n系统异常 <8小时\\n一般性指导 <16\\n小时核心生产系统不\\n可用<10分钟\\n生产系统不可用\\n<30分钟\\n生产系统异常 <3\\n小时', metadata={'source': './productdesc-supportplans.pdf', 'page': 5}), Document(page_content='系统异常 <8小时\\n一般性指导 <16\\n小时案例处理人\\n员技术工程师技术工程师技术专家资深技术专家专属技术服\\n务经理---支持第三方软件\\n支持-配置指导以及\\n协助故障排除配置指导以及协\\n助故障排除配置指导以及协\\n助故障排除架构支持提供华为云产\\n品架构设计在\\n线课程提供华为云产\\n品架构设计在\\n线课程提供华为云产品\\n架构设计在线课\\n程提供华为云产品\\n架构设计在线课\\n程支持计划\\n产品介绍 3 服务目录文档版本  01 (2022-11-23)版权所有  © 华为技术有限公司3', metadata={'source': './productdesc-supportplans.pdf', 'page': 5}), Document(page_content='服务项目基础级开发者级商业级企业级云上保障护\\n航服务（基\\n础版）--包年购买提供：\\n每年1次1个自然\\n日的云上保障护\\n航服务（基础\\n版）包年购买提供：\\n每年累计 3个自\\n然日的云上保障\\n护航服务（基础\\n版），每次保障\\n服务以整数天申\\n请可用性检查---包年购买提供：\\n每年1次，分析\\n云上业务的资源\\n分布情况，识别\\n云服务高可用、\\n云服务部署实\\n践、云服务使用\\n限制3个方面的\\n风险，提供针对\\n性的优化建议。资源监控与\\n优化---包年购买提供：\\n每年1次，针对\\n云上资源的告警\\n情况、负载情况\\n和健康情况进行\\n检查。从监控的\\n角度分析业务场\\n景和历史故障，\\n结合华为云运维\\n最佳实践，提供', metadata={'source': './productdesc-supportplans.pdf', 'page': 6}), Document(page_content='针对性的优化建\\n议。企业优护计\\n划---针对客户业务敏\\n感的业界突发事\\n件（如安全漏\\n洞、病毒、骨干\\n网故障等）或华\\n为云变更事件，\\n主动协助客户制\\n定处置方案。企业服务月\\n报---每月1次，华为\\n云为企业客户提\\n供的包括云资源\\n运行状态和服务\\n支持的月度总\\n结，以及优化建\\n议API与SDK\\n支持访问开发者中\\n心访问开发者中\\n心访问开发者中心访问开发者中心支持计划\\n产品介绍 3 服务目录文档版本  01 (2022-11-23)版权所有  © 华为技术有限公司4', metadata={'source': './productdesc-supportplans.pdf', 'page': 6}), Document(page_content='服务项目基础级开发者级商业级企业级帮助与文档访问帮助中心访问帮助中心访问帮助中心访问帮助中心云社区访问云社区访问云社区访问云社区访问云社区消息订阅访问消息中心访问消息中心访问消息中心访问消息中心ICP备案服\\n务支持\\n访问备案中心支持\\n访问备案中心支持\\n访问备案中心支持\\n访问备案中心培训在线课程： 华\\n为云学院在线课程： 华\\n为云学院在线课程： 华为\\n云学院在线课程： 华为\\n云学院\\n 说明\\n●支持计划服务区域不包含欧洲 -巴黎、北美 -亚特兰大节点，如需服务可 联系我们 。\\n●包年购买商业级及企业级支持计划可享受更多增值服务，如 云上保障护航服务（基础版） 、', metadata={'source': './productdesc-supportplans.pdf', 'page': 7}), Document(page_content='可用性检查 、资源监控与优化 。支持计划\\n产品介绍 3 服务目录文档版本  01 (2022-11-23)版权所有  © 华为技术有限公司5', metadata={'source': './productdesc-supportplans.pdf', 'page': 7}), Document(page_content='4 服务范围\\n华为云技术、产品、解决方案使用咨询。\\n使用华为云技术、产品、解决方案过程中的最佳实践。\\n使用华为云产品过程中的问题定位和故障排除协助。\\n使用华为云 API和SDK过程中的接口咨询和故障排除协助。\\n使用华为云产品过程中相关的第三方软件配置指导以及故障排除协助。说明\\n支持计划服务范围不包含：\\n●代码开发。\\n●不在第三方软件支持 中的配置指导以及故障排查。\\n●所有第三方软件的安装、补丁更新、测试、故障诊断、优化等日常运维服务。支持计划\\n产品介绍 4 服务范围文档版本  01 (2022-11-23)版权所有  © 华为技术有限公司6', metadata={'source': './productdesc-supportplans.pdf', 'page': 8}), Document(page_content='5 服务内容\\n5.1 支持方式\\n华为云客户可以通过以下方式提交使用华为云过程中遇到的各类技术问题：\\n表5-1 支持方式支持方式服务说明服务时间云产品工单https://\\nconsole.huaweicloud.com/\\nticket\\n登录管理控制台，单击“工单”\\n菜单，进入工单管理。7x24热线电话4000-955-988 或950808 7x24企业电话专线（ 仅限商\\n业级和企业级 ）4000-955-988 或950808按1转2\\n说明\\n支持专属 400电话专线快速接入，\\n享受更专业贴心的售后工程师电话\\n服务，同时尊享接入线路优先级特\\n权。订购相应的支持计划级别后，', metadata={'source': './productdesc-supportplans.pdf', 'page': 9}), Document(page_content='华为云将为客户配置大企业客户专\\n线。7x24IM企业群（ 仅限商业\\n级和企业级 ）IM即时沟通群，多媒体高效交\\n互\\n说明\\nIM企业群非常便于进行多媒体交\\n互，消息记录可以进行过程\\nReview。订购相应的支持计划级别\\n后，华为云将为客户配置专属企业\\nIM企业群（仅支持 WeLink和企业\\n微信），实时快速响应客户的故障\\n处理、业务咨询等问题。7x24支持计划\\n产品介绍 5 服务内容文档版本  01 (2022-11-23)版权所有  © 华为技术有限公司7', metadata={'source': './productdesc-supportplans.pdf', 'page': 9}), Document(page_content='支持方式服务说明服务时间专属技术服务经理（ 仅\\n限企业级 ）华为云售后技术服务统一接口人\\n说明\\n专属技术服务经理由华为云服务资\\n深技术专家担任，作为华为云售后\\n技术服务统一接口，熟悉客户云上\\n架构，提前预知技术风险并提供优\\n化建议，指导或配合客户制定解决\\n方案，为客户提供更全面、更贴\\n身、更主动的技术服务。5x8\\n \\n5.2 支持计划响应 SLA\\n华为云技术支持工程师根据客户提交案例的严重性，按优先级排序，给予紧急问题更\\n快的响应。\\n表5-2 案例响应时间说明基础级开发者级商业级企业级一个工作日之内\\n受理生产系统不可用\\n<30分钟\\n生产系统异常 <3\\n小时\\n系统异常 <8小时', metadata={'source': './productdesc-supportplans.pdf', 'page': 10}), Document(page_content='一般性指导 <16小\\n时核心生产系统不可\\n用<10分钟\\n生产系统不可用 <30\\n分钟\\n生产系统异常 <3小\\n时\\n系统异常 <8小时\\n一般性指导 <16小时核心生产系统不可\\n用<10分钟\\n生产系统不可用 <30\\n分钟\\n生产系统异常 <3小\\n时\\n系统异常 <8小时\\n一般性指导 <16小时\\n \\n案例严重性级别定义如 表5-3所示：\\n表5-3 案例严重性级别说明案例严重性级\\n别级别说明核心生产系统\\n不可用是指客户核心生产系统业务（区别于一般性生产系统）出现服务宕\\n机等严重故障状况，需要华为云紧急协助排除问题。生产系统不可\\n用是指客户一般生产系统业务（区别于测试环境等非生产系统）出现', metadata={'source': './productdesc-supportplans.pdf', 'page': 10}), Document(page_content='服务宕机等严重故障状况，需要华为云优先协助排除问题。生产系统异常是指客户业务生产系统（区别于测试环境等非生产系统）出现一定\\n范围的服务异常现象，但并未完全失去服务能力，需要华为云尽快\\n协助排除问题。系统异常是指客户业务系统出现一定范围的服务异常现象，但并未完全失去\\n服务能力，需要华为云协助排除问题。支持计划\\n产品介绍 5 服务内容文档版本  01 (2022-11-23)版权所有  © 华为技术有限公司8', metadata={'source': './productdesc-supportplans.pdf', 'page': 10}), Document(page_content='案例严重性级\\n别级别说明一般性指导即非故障性求助。例如，客户向华为云技术服务人员寻求技术性指\\n导，一般响应要求不紧急。\\n 说明\\n为了保证紧急的问题得到快速的支持，客户应客观评估问题级别。强烈推荐将最高级别严重性限\\n制用于无法解决或直接影响生产应用程序的案例，应事先进行计划，以避免通过高严重性案例解\\n决一般性指导问题。对于不符合实际的问题提交级别，华为云不保证一定按照提交级别予以响\\n应。\\n5.3 第三方软件支持\\n第三方软件支持服务是华为云将自身开发、运营和运维过程中运用第三方软件的经验\\n积累传递给华为云客户，帮助客户解决其业务部署、运维过程中遇到的困难，而提供', metadata={'source': './productdesc-supportplans.pdf', 'page': 11}), Document(page_content='的尽力而为的建议服务。华为云服务保障团队向客户提供的第三方软件的建议只针对\\n有经验的系统管理人员或其他相关 IT技术人员，并且华为云不负责第三方软件支持过\\n程中所提供建议的实施。客户业务部署、运行过程中遇到以下第三方应用问题，华为\\n云将提供力所能及的问题排解建议。华为云第三方软件支持服务范围如 表5-4所示：\\n表5-4 华为云第三方软件支持列表分类第三方软件版本范围支持范围远程接\\n入、文\\n件复制\\n工具Open VPN适配华为云提供的各 linux/\\nwindows 系统镜像的\\nOpenVPN 官方发布版本，软\\n件版本号大于 2.1●安装、启动 OpenVPN 失\\n败的排查协助', metadata={'source': './productdesc-supportplans.pdf', 'page': 11}), Document(page_content='●连接失败服务侧的排查协\\n助SSH华为云提供的各 linux发行版\\n本镜像之上的 linux原生ssh● SSH服务启动失败的排查\\n协助\\n●连接失败服务侧的排查协\\n助MSTSC华为云提供的各 Windows 版\\n本镜像之上的原生 mstscServer侧远程登录服务\\nRDS(Remote Desktop\\nService)无法启动问题SCP华为云提供的各 linux发行版\\n本镜像之上的 linux原生scp● SCP服务连接报错的排查\\n协助\\n●连接失败服务侧的排查协\\n助SFTP华为云提供的各 linux发行版\\n本镜像之上的 linux原生sftp● FTP使用系统帐号登录的\\n配置方法', metadata={'source': './productdesc-supportplans.pdf', 'page': 11}), Document(page_content='●连接失败服务侧的排查协\\n助支持计划\\n产品介绍 5 服务内容文档版本  01 (2022-11-23)版权所有  © 华为技术有限公司9', metadata={'source': './productdesc-supportplans.pdf', 'page': 11}), Document(page_content='分类第三方软件版本范围支持范围安全策\\n略工具Linux\\niptables/\\nfirewall华为云提供的各 linux发行版\\n本镜像Iptables和firewall基本语法\\n放行规则Windows\\n防火墙华为云提供的各 windows 版\\n本镜像如何添加基本出入站规则常见的\\n数据库MySQL适配华为云提供的各 linux/\\nwindows 系统镜像的 Mysql\\n5.x官方发布版本●安装部署建议\\n●基本的连接访问问题排查\\n协助Microsoft\\nSQL Server微软官方发布的 SQL Server\\n2008/2012 版本●安装部署建议\\n●基本的连接访问问题排查\\n协助常见\\nWeb服', metadata={'source': './productdesc-supportplans.pdf', 'page': 12}), Document(page_content='务器Apacheapache 2.2 版本以上 ●安装部署建议\\n●基本的连接访问问题排查\\n协助NginxNginx社区版本 1.8+ ●安装部署建议\\n●基本的连接访问问题排查\\n协助IISIIS 7.0版本以上 ●安装部署建议\\n●基本的连接访问问题排查\\n协助\\n \\n对于超出以上范围的第三方应用问题，您应该向应用供应商寻求服务支持，或在应用\\n相关社区寻求支持，您也可以在华为云的云市场购买第三方软件或服务，或在华为云\\n社区的官方论坛上寻求帮助。\\n随着华为云业务的发展，未来华为云会推出更精细的第三方软件支持服务等级划分，\\n为广大用户提供更全面、更专业的售后支持服务。\\n5.4 架构支持', metadata={'source': './productdesc-supportplans.pdf', 'page': 12}), Document(page_content='华为云提供 HCIE-Cloud Servise Solutions Architect 在线系列课程，课程包含华为云架\\n构设计原则，华为云计算、存储、网络、数据库、应用、大数据、运维及安全架构设\\n计等内容，同时包含了丰富的最佳实践案例，用于指导客户进行云上架构设计。详见\\n华为认证云服务专家解决方案架构师 。\\n5.5 可用性检查\\n分析云上业务的资源分布情况，识别云服务高可用、云服务部署实践、云服务使用限\\n制3个方面的风险，提供针对性的优化建议。\\n●云服务高可用：聚焦云服务可用区（ AZ）内高可用设计，业务设计为主备、集群\\n等方式。支持计划', metadata={'source': './productdesc-supportplans.pdf', 'page': 12}), Document(page_content='产品介绍 5 服务内容文档版本  01 (2022-11-23)版权所有  © 华为技术有限公司10', metadata={'source': './productdesc-supportplans.pdf', 'page': 12}), Document(page_content='●云服务部署实践：侧重云服务部署，包括云服务资源规格选型、云服务使用方式\\n等。\\n●云服务使用限制：列举云服务使用限制，包括云服务资源配额、带宽限速等。支持计划级别包年购买可获服务配额企业级赠送1次\\n 说明\\n包年购买企业级支持计划方可享受该服务，需提前 3个工作日提出申请。注意\\n可用性检查仅包年购买企业级支持计划才限额赠送。客户一旦申请该限额增值服务，\\n将无法退订或降级当期支持计划订单。\\n5.6 资源监控与优化\\n针对云上资源的告警情况、负载情况和健康情况进行检查。从监控的角度分析业务场\\n景和历史故障，结合华为云运维最佳实践，提供针对性的优化建议。\\n资源监控与优化包括：', metadata={'source': './productdesc-supportplans.pdf', 'page': 13}), Document(page_content='●基础资源监控，提供基于华为云 CES（云监控）的云资源指标及事件监控的配置建\\n议。\\n●应用&容器监控，提供基于华为云 AOM（应用运维管理 ）的应用及云资源指标及\\n事件监控的配置建议。支持计划级别包年购买可获服务配额企业级赠送1次\\n 说明\\n包年购买企业级支持计划方可享受该服务，需提前 3个工作日提出申请。注意\\n资源监控与优化仅包年购买企业级支持计划才限额赠送。客户一旦申请该限额增值服\\n务，将无法退订或降级当期支持计划订单。\\n5.7 企业优护计划\\n华为云企业优护计划服务，针对客户业务敏感的业界突发事件（如安全漏洞、病毒、', metadata={'source': './productdesc-supportplans.pdf', 'page': 13}), Document(page_content='骨干网故障等）或华为云变更事件，主动协助客户制定处置方案。华为云主动理解并支持计划\\n产品介绍 5 服务内容文档版本  01 (2022-11-23)版权所有  © 华为技术有限公司11', metadata={'source': './productdesc-supportplans.pdf', 'page': 13}), Document(page_content='跟进客户业务对华为云的长期诉求（非被动式应答），熟悉客户需求的演进计划并通\\n过持续的努力不断地提高客户满意度。\\n主要服务内容：\\n●对于业界突发事件如操作系统漏洞、重要的第三方软件漏洞、病毒爆发、黑客攻\\n击、(自然灾害等引起的 )骨干网故障等，除例行发送邮件、短息、订阅消息通知\\n外，服务经理第一时间对接客户，协助客户制定处置方案。\\n●华为云在任何平台变更前，若经专家团队判断对客户业务有影响（ SLA承诺范围\\n内），服务经理第一时间对接客户，协助客户评估影响并制定处置方案。\\n●华为云在重大产品或特性发布后，服务经理若判断能够帮助客户提升业务竞争力', metadata={'source': './productdesc-supportplans.pdf', 'page': 14}), Document(page_content='或客户可能关注，则第一时间对接客户进行新产品或特性的赋能。说明\\n企业优护计划不覆盖如护网行动等计划性事件，如有需求请购买 管理检测与响应  MDR。\\n5.8 企业服务月报\\n每个自然月的 10日（遇法定节假日顺延相应天数）前向客户的华为云注册邮箱和客户\\n要求的其他邮箱发送上月服务月报。\\n华为云为企业客户提供的包括云资源运行状态和服务支持的月度总结报告，也会包含\\n依据华为云最佳实践经验给出的优化建议。\\n月报内容主要包括以下方面内容：\\n●概要\\n●服务总结\\n●资源概况\\n●服务工单\\n●安全防护\\n●优化建议须知\\n●在一些特殊情况下，可能因数据采集制约导致华为云无法生成和发送月报。例如，', metadata={'source': './productdesc-supportplans.pdf', 'page': 14}), Document(page_content='尚处于上云 POC阶段的部署架构可能变动较大不适宜生成月报；专属云特定部署场\\n景也可能导致工具无法采集到月报数据。\\n●在输出服务月报的过程中，华为云需采集客户的基础设施运维数据。所有数据仅用\\n于制作服务月报，不会用于其他任何目的。数据采集类型和用途说明如 表5-5所\\n示。支持计划\\n产品介绍 5 服务内容文档版本  01 (2022-11-23)版权所有  © 华为技术有限公司12', metadata={'source': './productdesc-supportplans.pdf', 'page': 14}), Document(page_content='表5-5 数据采集类型说明数据类型说明采集和存储方式数据用途服务工单数据技术类、业务类工单\\n清单。\\n工单的 id、描述、问题\\n级别、创建时间、解\\n决时间等工单信息。经自动化工具调用\\n工单API查询结\\n果，中途不存储数\\n据，月报结果按照\\n租户隔离存储。自动化统计分析，\\n生成月报“服务工\\n单”内容。云服务资源实\\n例数据客户创建的资源列\\n表，各资源数量。\\n资源id、名称、状态、\\n规格、创建时间、 IP地\\n址、使用量及服务资\\n源相关的基本配置信\\n息。经自动化工具调用\\n云服务 API查询结\\n果，中途不存储数\\n据，月报结果按照\\n租户隔离存储。自动化统计分析，\\n生成月报“资源概\\n况”内容。资源负载监控', metadata={'source': './productdesc-supportplans.pdf', 'page': 15}), Document(page_content='数据CPU使用率、内存使用\\n率、磁盘使用率、磁\\n盘读写速率、 IP出口带\\n宽、IP入口带宽、并发\\n连接数、新建连接\\n数、网络延迟、网络\\n丢包率等资源监控指\\n标。经自动化工具调用\\n云服务 API查询结\\n果，中途不存储数\\n据，月报结果按照\\n租户隔离存储。自动化统计分析，\\n生成月报“资源概\\n况”内容。安全配置和监\\n控数据IAM用户信息、安全组\\n配置、日志审计开\\n关、OBS访问控制策\\n略、安全组配置、\\nDDOS封堵或清洗引流\\n记录、 WAF配置及应\\n用攻击记录等。经自动化工具调用\\n云服务 API查询结\\n果，中途不存储数\\n据，月报结果按照\\n租户隔离存储。自动化统计分析，\\n生成月报“安全防', metadata={'source': './productdesc-supportplans.pdf', 'page': 15}), Document(page_content='护”内容。消费数据客户帐号月度消费详\\n单。经自动化工具调用\\n运营API查询结\\n果，中途不存储数\\n据，月报结果按照\\n租户隔离存储。自动化统计分析，\\n生成月报“消费趋\\n势”内容。\\n \\n5.9 云上保障护航服务（基础版）\\n华为云提供云上保障护航服务（基础版），在客户进行产品发布，业务推广或促销、\\n重要节日业务高峰、数据迁移、应用升级等重大营销或技术活动时，提供活动前容量\\n确认，活动中的 7x24小时专人后台巡检、快速响应，保障企业客户活动平稳进行。\\n云上保障护航服务（基础版）主要工作内容：\\n●活动前，分析客户重大活动业务特点和容量需求预测，确保后台资源满足客户活', metadata={'source': './productdesc-supportplans.pdf', 'page': 15}), Document(page_content='动时的容量需求和云平台稳定运行。支持计划\\n产品介绍 5 服务内容文档版本  01 (2022-11-23)版权所有  © 华为技术有限公司13', metadata={'source': './productdesc-supportplans.pdf', 'page': 15}), Document(page_content='●活动中，值守保障团队 7x24小时后台巡检， IM保障群、指定的技术服务经理、\\nWAR Room 专家值守；优先受理紧急技术事件，事件响应时长小于 10分钟。支持计划级别包年购买可获服务配额商业级每年1次1个自然日 企业级每年累计 3个自然日，每次保障服务以\\n整数天申请\\n 说明\\n包年购买商业级、企业级支持计划方可享受有限天数的 云上保障护航服务（基础版） 。若需要更\\n长时间的深度护航服务请购买 云上保障护航服务（标准版） 。标准版适合于上线或活动场景业务\\n并发量高或者业务复杂，对业务保障质量要求高的客户。为保证活动前的充分准备，建议客户提', metadata={'source': './productdesc-supportplans.pdf', 'page': 16}), Document(page_content='前10个工作日提出云上保障护航服务（基础版）申请。注意\\n云上保障护航服务（基础版）仅包年购买商业级、企业级支持计划才限额赠送。客户\\n一旦申请该限额增值服务，将无法退订或降级当期支持计划订单。支持计划\\n产品介绍 5 服务内容文档版本  01 (2022-11-23)版权所有  © 华为技术有限公司14', metadata={'source': './productdesc-supportplans.pdf', 'page': 16}), Document(page_content='6 计费说明\\n计费项\\n华为云支持计划按云服务资源使用量计取支持服务费用，云服务资源使用量是一定时\\n期内用户使用华为云服务产生的服务消费金额，包括云服务器、云存储、网络带宽、\\n数据库等服务类型，但不包括支持计划、专业服务、云市场等服务。并且不区分现金\\n支付、信用支付、代金券支付等支付形式，均纳入统计。结算时根据云服务用量匹配\\n计费阶梯，用量越大费率越低。\\n云服务资源用量以折前消费金额（官网价）为计量依据，按实际自然月使用量算。包\\n年和包多月的预付费订购云产品，其资源使用量会被均摊到天，计入自然月月度云服\\n务资源使用量。', metadata={'source': './productdesc-supportplans.pdf', 'page': 17}), Document(page_content='具体费用详情，请参见 产品价格详情 。您可以支持计划提供的价格计算器，选择您需\\n要的服务规格，来快速计算出购买支持计划的参考价格。\\n计费方式\\n华为云支持计划按账户按月收取支持服务费用，并将支持费用划分为两部分：\\n●基础支持费：基础支持费是每一个支持计划级别的最低月服务费。基础支持费采\\n用预付费模式，于订购时完成支付。\\n●增量支持费：增量支持费是基于客户月度消费计算的超过基础支持费的差额。增\\n量支持费采用后付费模式，于下一个自然月月初进行费用划扣。\\n升级支持计划\\n华为云支持提升支持计划级别，如将商业级提升为企业级。升级支持计划涉及补扣差\\n额支持费用。', metadata={'source': './productdesc-supportplans.pdf', 'page': 17}), Document(page_content='升级涉及支持费用变化：先计算剩余服务时间新支持计划所需基础支持费用，减去老\\n支持计划结余基础支持费用，则为需要补扣的预付基础支持费。增量支持费于月结时\\n分别划扣老支持计划和新支持计划各对应天数产生的按量费用。\\n支持计划升级不涉及云上保障护航服务（基础版）、可用性检查、资源监控与优化等\\n限额增值服务配额调整。举例来说，如客户订购开发者级支持计划 1年，服务期内申请\\n升级到企业级支持计划，因升级而订购的企业级支持计划不满 1年，故无法获得限额增\\n值服务。支持计划\\n产品介绍 6 计费说明文档版本  01 (2022-11-23)版权所有  © 华为技术有限公司15', metadata={'source': './productdesc-supportplans.pdf', 'page': 17}), Document(page_content='降级支持计划\\n华为云支持降低支持计划级别，并按订购周期实际未使用天数比例退还预付基础支持\\n费差价。但是客户不应频繁变更支持计划级别，华为云保留拒绝客户频繁升降级支持\\n计划的权力。\\n降级涉及支持费用变化：先计算剩余服务时间老支持计划结余基础支持费用，减去新\\n支持计划所需基础支持费用，则为需要退还的预付基础支持费。增量支持费于月结时\\n分别划扣老支持计划和新支持计划各对应天数产生的按量费用。说明\\n云上保障护航服务（基础版）、可用性检查、资源监控与优化等限额增值服务，是客户包年批量\\n购买华为云支持计划的一次性特别优惠，一旦享受该优惠，即客户已承诺长期使用，支持计划订', metadata={'source': './productdesc-supportplans.pdf', 'page': 18}), Document(page_content='单降级将受到约束，降级需检查新级别增值服务配额是否足以抵扣老级别已消费量。降级规则如\\n下：\\n●允许非包年支持计划降级。\\n●对于包年订购服务支持计划，需检查限额增值服务权益使用情况，若新级别标准配额 -老级别\\n已消费数量为正数或零，则准予降级，若任意项为负数，则不予降级。\\n退订支持计划\\n华为云支持退订支持计划服务，按实际未使用天数比例退还预付基础支持费，但下月\\n初仍会正常结算并划扣当月增量支持费用。说明\\n●云上保障护航服务（基础版）、可用性检查、资源监控与优化等限额增值服务，是客户包年\\n批量购买华为云支持计划的一次性特别优惠，一旦享受该优惠，即客户已承诺长期使用，支\\n持计划订单不予中途退订。', metadata={'source': './productdesc-supportplans.pdf', 'page': 18}), Document(page_content='●若客户未申请使用任何限额增值服务，则按华为云通用产品退订原则执行，可访问 退订规则\\n说明。支持计划\\n产品介绍 6 计费说明文档版本  01 (2022-11-23)版权所有  © 华为技术有限公司16', metadata={'source': './productdesc-supportplans.pdf', 'page': 18}), Document(page_content='7 修订记录发布日期修订记录2021-04-27第六次正式发布。\\n●更新服务目录 章节。\\n●新增架构支持 章节。2021-04-02第五次正式发布。\\n●新增可用性检查 章节。\\n●新增资源监控与优化 章节。2020-03-31第四次正式发布。\\n新增计费说明 。2019-10-08第三次正式发布。\\n服务内容章节结构优化。2019-09-11第二次正式发布。\\n企业服务月报 章节新增数据采集说明。2019-01-31第一次正式发布。支持计划\\n产品介绍 7 修订记录文档版本  01 (2022-11-23)版权所有  © 华为技术有限公司17', metadata={'source': './productdesc-supportplans.pdf', 'page': 19})]\n"
     ]
    }
   ],
   "source": [
    "print(splitted_docs)"
   ]
  },
  {
   "cell_type": "markdown",
   "metadata": {
    "id": "oCeZbBGpY7j9"
   },
   "source": [
    "# Build and store embeddings"
   ]
  },
  {
   "cell_type": "code",
   "execution_count": 10,
   "metadata": {
    "colab": {
     "base_uri": "https://localhost:8080/"
    },
    "executionInfo": {
     "elapsed": 36014,
     "status": "ok",
     "timestamp": 1692622042620,
     "user": {
      "displayName": "Jie Ke",
      "userId": "13821873407880707566"
     },
     "user_tz": -480
    },
    "id": "kuajd4h3ZQrh",
    "outputId": "ccf5ba1d-a54b-4b00-8394-50ced48e9cd7",
    "scrolled": true
   },
   "outputs": [
    {
     "name": "stdout",
     "output_type": "stream",
     "text": [
      "Defaulting to user installation because normal site-packages is not writeable\n",
      "Requirement already satisfied: InstructorEmbedding in /home/voyagerke/.local/lib/python3.10/site-packages (1.0.1)\n",
      "\u001b[33mDEPRECATION: distro-info 1.1build1 has a non-standard version number. pip 23.3 will enforce this behaviour change. A possible replacement is to upgrade to a newer version of distro-info or contact the author to suggest that they release a version with a conforming version number. Discussion can be found at https://github.com/pypa/pip/issues/12063\u001b[0m\u001b[33m\n",
      "\u001b[0mDefaulting to user installation because normal site-packages is not writeable\n",
      "Requirement already satisfied: sentence_transformers in /home/voyagerke/.local/lib/python3.10/site-packages (2.2.2)\n",
      "Requirement already satisfied: transformers<5.0.0,>=4.6.0 in /home/voyagerke/.local/lib/python3.10/site-packages (from sentence_transformers) (4.31.0)\n",
      "Requirement already satisfied: tqdm in /home/voyagerke/.local/lib/python3.10/site-packages (from sentence_transformers) (4.66.1)\n",
      "Requirement already satisfied: torch>=1.6.0 in /home/voyagerke/.local/lib/python3.10/site-packages (from sentence_transformers) (2.0.1)\n",
      "Requirement already satisfied: torchvision in /home/voyagerke/.local/lib/python3.10/site-packages (from sentence_transformers) (0.15.2)\n",
      "Requirement already satisfied: numpy in /home/voyagerke/.local/lib/python3.10/site-packages (from sentence_transformers) (1.25.2)\n",
      "Requirement already satisfied: scikit-learn in /home/voyagerke/.local/lib/python3.10/site-packages (from sentence_transformers) (1.3.0)\n",
      "Requirement already satisfied: scipy in /home/voyagerke/.local/lib/python3.10/site-packages (from sentence_transformers) (1.11.1)\n",
      "Requirement already satisfied: nltk in /home/voyagerke/.local/lib/python3.10/site-packages (from sentence_transformers) (3.8.1)\n",
      "Requirement already satisfied: sentencepiece in /home/voyagerke/.local/lib/python3.10/site-packages (from sentence_transformers) (0.1.99)\n",
      "Requirement already satisfied: huggingface-hub>=0.4.0 in /home/voyagerke/.local/lib/python3.10/site-packages (from sentence_transformers) (0.16.4)\n",
      "Requirement already satisfied: filelock in /home/voyagerke/.local/lib/python3.10/site-packages (from huggingface-hub>=0.4.0->sentence_transformers) (3.12.2)\n",
      "Requirement already satisfied: fsspec in /home/voyagerke/.local/lib/python3.10/site-packages (from huggingface-hub>=0.4.0->sentence_transformers) (2023.6.0)\n",
      "Requirement already satisfied: requests in /home/voyagerke/.local/lib/python3.10/site-packages (from huggingface-hub>=0.4.0->sentence_transformers) (2.31.0)\n",
      "Requirement already satisfied: pyyaml>=5.1 in /usr/lib/python3/dist-packages (from huggingface-hub>=0.4.0->sentence_transformers) (5.4.1)\n",
      "Requirement already satisfied: typing-extensions>=3.7.4.3 in /home/voyagerke/.local/lib/python3.10/site-packages (from huggingface-hub>=0.4.0->sentence_transformers) (4.7.1)\n",
      "Requirement already satisfied: packaging>=20.9 in /home/voyagerke/.local/lib/python3.10/site-packages (from huggingface-hub>=0.4.0->sentence_transformers) (23.1)\n",
      "Requirement already satisfied: sympy in /home/voyagerke/.local/lib/python3.10/site-packages (from torch>=1.6.0->sentence_transformers) (1.12)\n",
      "Requirement already satisfied: networkx in /home/voyagerke/.local/lib/python3.10/site-packages (from torch>=1.6.0->sentence_transformers) (3.1)\n",
      "Requirement already satisfied: jinja2 in /home/voyagerke/.local/lib/python3.10/site-packages (from torch>=1.6.0->sentence_transformers) (3.1.2)\n",
      "Requirement already satisfied: nvidia-cuda-nvrtc-cu11==11.7.99 in /home/voyagerke/.local/lib/python3.10/site-packages (from torch>=1.6.0->sentence_transformers) (11.7.99)\n",
      "Requirement already satisfied: nvidia-cuda-runtime-cu11==11.7.99 in /home/voyagerke/.local/lib/python3.10/site-packages (from torch>=1.6.0->sentence_transformers) (11.7.99)\n",
      "Requirement already satisfied: nvidia-cuda-cupti-cu11==11.7.101 in /home/voyagerke/.local/lib/python3.10/site-packages (from torch>=1.6.0->sentence_transformers) (11.7.101)\n",
      "Requirement already satisfied: nvidia-cudnn-cu11==8.5.0.96 in /home/voyagerke/.local/lib/python3.10/site-packages (from torch>=1.6.0->sentence_transformers) (8.5.0.96)\n",
      "Requirement already satisfied: nvidia-cublas-cu11==11.10.3.66 in /home/voyagerke/.local/lib/python3.10/site-packages (from torch>=1.6.0->sentence_transformers) (11.10.3.66)\n",
      "Requirement already satisfied: nvidia-cufft-cu11==10.9.0.58 in /home/voyagerke/.local/lib/python3.10/site-packages (from torch>=1.6.0->sentence_transformers) (10.9.0.58)\n",
      "Requirement already satisfied: nvidia-curand-cu11==10.2.10.91 in /home/voyagerke/.local/lib/python3.10/site-packages (from torch>=1.6.0->sentence_transformers) (10.2.10.91)\n",
      "Requirement already satisfied: nvidia-cusolver-cu11==11.4.0.1 in /home/voyagerke/.local/lib/python3.10/site-packages (from torch>=1.6.0->sentence_transformers) (11.4.0.1)\n",
      "Requirement already satisfied: nvidia-cusparse-cu11==11.7.4.91 in /home/voyagerke/.local/lib/python3.10/site-packages (from torch>=1.6.0->sentence_transformers) (11.7.4.91)\n",
      "Requirement already satisfied: nvidia-nccl-cu11==2.14.3 in /home/voyagerke/.local/lib/python3.10/site-packages (from torch>=1.6.0->sentence_transformers) (2.14.3)\n",
      "Requirement already satisfied: nvidia-nvtx-cu11==11.7.91 in /home/voyagerke/.local/lib/python3.10/site-packages (from torch>=1.6.0->sentence_transformers) (11.7.91)\n",
      "Requirement already satisfied: triton==2.0.0 in /home/voyagerke/.local/lib/python3.10/site-packages (from torch>=1.6.0->sentence_transformers) (2.0.0)\n",
      "Requirement already satisfied: setuptools in /usr/local/lib/python3.10/dist-packages (from nvidia-cublas-cu11==11.10.3.66->torch>=1.6.0->sentence_transformers) (68.0.0)\n",
      "Requirement already satisfied: wheel in /usr/local/lib/python3.10/dist-packages (from nvidia-cublas-cu11==11.10.3.66->torch>=1.6.0->sentence_transformers) (0.41.1)\n",
      "Requirement already satisfied: cmake in /home/voyagerke/.local/lib/python3.10/site-packages (from triton==2.0.0->torch>=1.6.0->sentence_transformers) (3.27.2)\n",
      "Requirement already satisfied: lit in /home/voyagerke/.local/lib/python3.10/site-packages (from triton==2.0.0->torch>=1.6.0->sentence_transformers) (16.0.6)\n",
      "Requirement already satisfied: regex!=2019.12.17 in /home/voyagerke/.local/lib/python3.10/site-packages (from transformers<5.0.0,>=4.6.0->sentence_transformers) (2023.8.8)\n",
      "Requirement already satisfied: tokenizers!=0.11.3,<0.14,>=0.11.1 in /home/voyagerke/.local/lib/python3.10/site-packages (from transformers<5.0.0,>=4.6.0->sentence_transformers) (0.13.3)\n",
      "Requirement already satisfied: safetensors>=0.3.1 in /home/voyagerke/.local/lib/python3.10/site-packages (from transformers<5.0.0,>=4.6.0->sentence_transformers) (0.3.2)\n",
      "Requirement already satisfied: click in /home/voyagerke/.local/lib/python3.10/site-packages (from nltk->sentence_transformers) (8.1.7)\n",
      "Requirement already satisfied: joblib in /home/voyagerke/.local/lib/python3.10/site-packages (from nltk->sentence_transformers) (1.3.2)\n",
      "Requirement already satisfied: threadpoolctl>=2.0.0 in /home/voyagerke/.local/lib/python3.10/site-packages (from scikit-learn->sentence_transformers) (3.2.0)\n",
      "Requirement already satisfied: pillow!=8.3.*,>=5.3.0 in /home/voyagerke/.local/lib/python3.10/site-packages (from torchvision->sentence_transformers) (10.0.0)\n",
      "Requirement already satisfied: MarkupSafe>=2.0 in /home/voyagerke/.local/lib/python3.10/site-packages (from jinja2->torch>=1.6.0->sentence_transformers) (2.1.3)\n",
      "Requirement already satisfied: charset-normalizer<4,>=2 in /home/voyagerke/.local/lib/python3.10/site-packages (from requests->huggingface-hub>=0.4.0->sentence_transformers) (3.2.0)\n",
      "Requirement already satisfied: idna<4,>=2.5 in /home/voyagerke/.local/lib/python3.10/site-packages (from requests->huggingface-hub>=0.4.0->sentence_transformers) (3.4)\n",
      "Requirement already satisfied: urllib3<3,>=1.21.1 in /home/voyagerke/.local/lib/python3.10/site-packages (from requests->huggingface-hub>=0.4.0->sentence_transformers) (2.0.4)\n",
      "Requirement already satisfied: certifi>=2017.4.17 in /home/voyagerke/.local/lib/python3.10/site-packages (from requests->huggingface-hub>=0.4.0->sentence_transformers) (2023.7.22)\n",
      "Requirement already satisfied: mpmath>=0.19 in /home/voyagerke/.local/lib/python3.10/site-packages (from sympy->torch>=1.6.0->sentence_transformers) (1.3.0)\n",
      "\u001b[33mDEPRECATION: distro-info 1.1build1 has a non-standard version number. pip 23.3 will enforce this behaviour change. A possible replacement is to upgrade to a newer version of distro-info or contact the author to suggest that they release a version with a conforming version number. Discussion can be found at https://github.com/pypa/pip/issues/12063\u001b[0m\u001b[33m\n",
      "\u001b[0mDefaulting to user installation because normal site-packages is not writeable\n",
      "Requirement already satisfied: Chromadb in /home/voyagerke/.local/lib/python3.10/site-packages (0.4.6)\n",
      "Requirement already satisfied: requests>=2.28 in /home/voyagerke/.local/lib/python3.10/site-packages (from Chromadb) (2.31.0)\n",
      "Requirement already satisfied: pydantic<2.0,>=1.9 in /home/voyagerke/.local/lib/python3.10/site-packages (from Chromadb) (1.10.12)\n",
      "Requirement already satisfied: chroma-hnswlib==0.7.2 in /home/voyagerke/.local/lib/python3.10/site-packages (from Chromadb) (0.7.2)\n",
      "Requirement already satisfied: fastapi<0.100.0,>=0.95.2 in /home/voyagerke/.local/lib/python3.10/site-packages (from Chromadb) (0.99.1)\n",
      "Requirement already satisfied: uvicorn[standard]>=0.18.3 in /home/voyagerke/.local/lib/python3.10/site-packages (from Chromadb) (0.23.2)\n",
      "Requirement already satisfied: numpy>=1.21.6 in /home/voyagerke/.local/lib/python3.10/site-packages (from Chromadb) (1.25.2)\n",
      "Requirement already satisfied: posthog>=2.4.0 in /home/voyagerke/.local/lib/python3.10/site-packages (from Chromadb) (3.0.2)\n",
      "Requirement already satisfied: typing-extensions>=4.5.0 in /home/voyagerke/.local/lib/python3.10/site-packages (from Chromadb) (4.7.1)\n",
      "Requirement already satisfied: pulsar-client>=3.1.0 in /home/voyagerke/.local/lib/python3.10/site-packages (from Chromadb) (3.2.0)\n",
      "Requirement already satisfied: onnxruntime>=1.14.1 in /home/voyagerke/.local/lib/python3.10/site-packages (from Chromadb) (1.15.1)\n",
      "Requirement already satisfied: tokenizers>=0.13.2 in /home/voyagerke/.local/lib/python3.10/site-packages (from Chromadb) (0.13.3)\n",
      "Requirement already satisfied: pypika>=0.48.9 in /home/voyagerke/.local/lib/python3.10/site-packages (from Chromadb) (0.48.9)\n",
      "Requirement already satisfied: tqdm>=4.65.0 in /home/voyagerke/.local/lib/python3.10/site-packages (from Chromadb) (4.66.1)\n",
      "Requirement already satisfied: overrides>=7.3.1 in /home/voyagerke/.local/lib/python3.10/site-packages (from Chromadb) (7.4.0)\n",
      "Requirement already satisfied: importlib-resources in /home/voyagerke/.local/lib/python3.10/site-packages (from Chromadb) (6.0.1)\n",
      "Requirement already satisfied: starlette<0.28.0,>=0.27.0 in /home/voyagerke/.local/lib/python3.10/site-packages (from fastapi<0.100.0,>=0.95.2->Chromadb) (0.27.0)\n",
      "Requirement already satisfied: coloredlogs in /home/voyagerke/.local/lib/python3.10/site-packages (from onnxruntime>=1.14.1->Chromadb) (15.0.1)\n",
      "Requirement already satisfied: flatbuffers in /home/voyagerke/.local/lib/python3.10/site-packages (from onnxruntime>=1.14.1->Chromadb) (23.5.26)\n",
      "Requirement already satisfied: packaging in /home/voyagerke/.local/lib/python3.10/site-packages (from onnxruntime>=1.14.1->Chromadb) (23.1)\n",
      "Requirement already satisfied: protobuf in /home/voyagerke/.local/lib/python3.10/site-packages (from onnxruntime>=1.14.1->Chromadb) (4.24.1)\n",
      "Requirement already satisfied: sympy in /home/voyagerke/.local/lib/python3.10/site-packages (from onnxruntime>=1.14.1->Chromadb) (1.12)\n",
      "Requirement already satisfied: six>=1.5 in /usr/lib/python3/dist-packages (from posthog>=2.4.0->Chromadb) (1.16.0)\n",
      "Requirement already satisfied: monotonic>=1.5 in /home/voyagerke/.local/lib/python3.10/site-packages (from posthog>=2.4.0->Chromadb) (1.6)\n",
      "Requirement already satisfied: backoff>=1.10.0 in /home/voyagerke/.local/lib/python3.10/site-packages (from posthog>=2.4.0->Chromadb) (2.2.1)\n",
      "Requirement already satisfied: python-dateutil>2.1 in /home/voyagerke/.local/lib/python3.10/site-packages (from posthog>=2.4.0->Chromadb) (2.8.2)\n",
      "Requirement already satisfied: certifi in /home/voyagerke/.local/lib/python3.10/site-packages (from pulsar-client>=3.1.0->Chromadb) (2023.7.22)\n",
      "Requirement already satisfied: charset-normalizer<4,>=2 in /home/voyagerke/.local/lib/python3.10/site-packages (from requests>=2.28->Chromadb) (3.2.0)\n",
      "Requirement already satisfied: idna<4,>=2.5 in /home/voyagerke/.local/lib/python3.10/site-packages (from requests>=2.28->Chromadb) (3.4)\n",
      "Requirement already satisfied: urllib3<3,>=1.21.1 in /home/voyagerke/.local/lib/python3.10/site-packages (from requests>=2.28->Chromadb) (2.0.4)\n",
      "Requirement already satisfied: click>=7.0 in /home/voyagerke/.local/lib/python3.10/site-packages (from uvicorn[standard]>=0.18.3->Chromadb) (8.1.7)\n",
      "Requirement already satisfied: h11>=0.8 in /home/voyagerke/.local/lib/python3.10/site-packages (from uvicorn[standard]>=0.18.3->Chromadb) (0.14.0)\n",
      "Requirement already satisfied: httptools>=0.5.0 in /home/voyagerke/.local/lib/python3.10/site-packages (from uvicorn[standard]>=0.18.3->Chromadb) (0.6.0)\n",
      "Requirement already satisfied: python-dotenv>=0.13 in /home/voyagerke/.local/lib/python3.10/site-packages (from uvicorn[standard]>=0.18.3->Chromadb) (1.0.0)\n",
      "Requirement already satisfied: pyyaml>=5.1 in /usr/lib/python3/dist-packages (from uvicorn[standard]>=0.18.3->Chromadb) (5.4.1)\n",
      "Requirement already satisfied: uvloop!=0.15.0,!=0.15.1,>=0.14.0 in /home/voyagerke/.local/lib/python3.10/site-packages (from uvicorn[standard]>=0.18.3->Chromadb) (0.17.0)\n",
      "Requirement already satisfied: watchfiles>=0.13 in /home/voyagerke/.local/lib/python3.10/site-packages (from uvicorn[standard]>=0.18.3->Chromadb) (0.19.0)\n",
      "Requirement already satisfied: websockets>=10.4 in /home/voyagerke/.local/lib/python3.10/site-packages (from uvicorn[standard]>=0.18.3->Chromadb) (11.0.3)\n",
      "Requirement already satisfied: anyio<5,>=3.4.0 in /home/voyagerke/.local/lib/python3.10/site-packages (from starlette<0.28.0,>=0.27.0->fastapi<0.100.0,>=0.95.2->Chromadb) (3.7.1)\n",
      "Requirement already satisfied: humanfriendly>=9.1 in /home/voyagerke/.local/lib/python3.10/site-packages (from coloredlogs->onnxruntime>=1.14.1->Chromadb) (10.0)\n",
      "Requirement already satisfied: mpmath>=0.19 in /home/voyagerke/.local/lib/python3.10/site-packages (from sympy->onnxruntime>=1.14.1->Chromadb) (1.3.0)\n",
      "Requirement already satisfied: sniffio>=1.1 in /home/voyagerke/.local/lib/python3.10/site-packages (from anyio<5,>=3.4.0->starlette<0.28.0,>=0.27.0->fastapi<0.100.0,>=0.95.2->Chromadb) (1.3.0)\n",
      "Requirement already satisfied: exceptiongroup in /home/voyagerke/.local/lib/python3.10/site-packages (from anyio<5,>=3.4.0->starlette<0.28.0,>=0.27.0->fastapi<0.100.0,>=0.95.2->Chromadb) (1.1.3)\n",
      "\u001b[33mDEPRECATION: distro-info 1.1build1 has a non-standard version number. pip 23.3 will enforce this behaviour change. A possible replacement is to upgrade to a newer version of distro-info or contact the author to suggest that they release a version with a conforming version number. Discussion can be found at https://github.com/pypa/pip/issues/12063\u001b[0m\u001b[33m\n",
      "\u001b[0m"
     ]
    }
   ],
   "source": [
    "!pip install InstructorEmbedding\n",
    "!pip install sentence_transformers\n",
    "!pip install Chromadb"
   ]
  },
  {
   "cell_type": "code",
   "execution_count": 11,
   "metadata": {
    "colab": {
     "base_uri": "https://localhost:8080/"
    },
    "executionInfo": {
     "elapsed": 8584,
     "status": "ok",
     "timestamp": 1692622051187,
     "user": {
      "displayName": "Jie Ke",
      "userId": "13821873407880707566"
     },
     "user_tz": -480
    },
    "id": "pv3DCpdTZBZa",
    "outputId": "207a304f-4aea-4328-9c1f-90e54a1cb131"
   },
   "outputs": [
    {
     "name": "stdout",
     "output_type": "stream",
     "text": [
      "load INSTRUCTOR_Transformer\n",
      "max_seq_length  512\n"
     ]
    }
   ],
   "source": [
    "EMBEDDING_MODEL_NAME = \"/mnt/h/instructor-large\"\n",
    "embeddings = HuggingFaceInstructEmbeddings(\n",
    "    model_name=EMBEDDING_MODEL_NAME,\n",
    "    model_kwargs={\"device\": \"cuda\"},\n",
    ")"
   ]
  },
  {
   "cell_type": "code",
   "execution_count": 37,
   "metadata": {
    "colab": {
     "base_uri": "https://localhost:8080/"
    },
    "executionInfo": {
     "elapsed": 16346,
     "status": "ok",
     "timestamp": 1692622067531,
     "user": {
      "displayName": "Jie Ke",
      "userId": "13821873407880707566"
     },
     "user_tz": -480
    },
    "id": "3D2dWij2Zkb0",
    "outputId": "4f7641c3-9d23-49ba-d1f1-7a9017a1b5bb",
    "scrolled": true
   },
   "outputs": [
    {
     "data": {
      "text/plain": [
       "['f126ebd6-40e5-11ee-b637-19b1a6324d3f',\n",
       " 'f126ebd7-40e5-11ee-b637-19b1a6324d3f',\n",
       " 'f126ebd8-40e5-11ee-b637-19b1a6324d3f',\n",
       " 'f126ebd9-40e5-11ee-b637-19b1a6324d3f',\n",
       " 'f126ebda-40e5-11ee-b637-19b1a6324d3f',\n",
       " 'f126ebdb-40e5-11ee-b637-19b1a6324d3f',\n",
       " 'f126ebdc-40e5-11ee-b637-19b1a6324d3f',\n",
       " 'f126ebdd-40e5-11ee-b637-19b1a6324d3f',\n",
       " 'f126ebde-40e5-11ee-b637-19b1a6324d3f',\n",
       " 'f126ebdf-40e5-11ee-b637-19b1a6324d3f',\n",
       " 'f126ebe0-40e5-11ee-b637-19b1a6324d3f',\n",
       " 'f126ebe1-40e5-11ee-b637-19b1a6324d3f',\n",
       " 'f126ebe2-40e5-11ee-b637-19b1a6324d3f',\n",
       " 'f126ebe3-40e5-11ee-b637-19b1a6324d3f',\n",
       " 'f126ebe4-40e5-11ee-b637-19b1a6324d3f',\n",
       " 'f126ebe5-40e5-11ee-b637-19b1a6324d3f',\n",
       " 'f126ebe6-40e5-11ee-b637-19b1a6324d3f',\n",
       " 'f126ebe7-40e5-11ee-b637-19b1a6324d3f',\n",
       " 'f126ebe8-40e5-11ee-b637-19b1a6324d3f',\n",
       " 'f126ebe9-40e5-11ee-b637-19b1a6324d3f',\n",
       " 'f126ebea-40e5-11ee-b637-19b1a6324d3f',\n",
       " 'f126ebeb-40e5-11ee-b637-19b1a6324d3f',\n",
       " 'f126ebec-40e5-11ee-b637-19b1a6324d3f',\n",
       " 'f126ebed-40e5-11ee-b637-19b1a6324d3f',\n",
       " 'f126ebee-40e5-11ee-b637-19b1a6324d3f',\n",
       " 'f126ebef-40e5-11ee-b637-19b1a6324d3f',\n",
       " 'f126ebf0-40e5-11ee-b637-19b1a6324d3f',\n",
       " 'f126ebf1-40e5-11ee-b637-19b1a6324d3f',\n",
       " 'f126ebf2-40e5-11ee-b637-19b1a6324d3f',\n",
       " 'f126ebf3-40e5-11ee-b637-19b1a6324d3f',\n",
       " 'f126ebf4-40e5-11ee-b637-19b1a6324d3f',\n",
       " 'f126ebf5-40e5-11ee-b637-19b1a6324d3f',\n",
       " 'f126ebf6-40e5-11ee-b637-19b1a6324d3f',\n",
       " 'f126ebf7-40e5-11ee-b637-19b1a6324d3f',\n",
       " 'f126ebf8-40e5-11ee-b637-19b1a6324d3f',\n",
       " 'f126ebf9-40e5-11ee-b637-19b1a6324d3f',\n",
       " 'f126ebfa-40e5-11ee-b637-19b1a6324d3f',\n",
       " 'f126ebfb-40e5-11ee-b637-19b1a6324d3f',\n",
       " 'f126ebfc-40e5-11ee-b637-19b1a6324d3f',\n",
       " 'f126ebfd-40e5-11ee-b637-19b1a6324d3f',\n",
       " 'f126ebfe-40e5-11ee-b637-19b1a6324d3f',\n",
       " 'f126ebff-40e5-11ee-b637-19b1a6324d3f',\n",
       " 'f126ec00-40e5-11ee-b637-19b1a6324d3f',\n",
       " 'f126ec01-40e5-11ee-b637-19b1a6324d3f',\n",
       " 'f126ec02-40e5-11ee-b637-19b1a6324d3f',\n",
       " 'f126ec03-40e5-11ee-b637-19b1a6324d3f',\n",
       " 'f126ec04-40e5-11ee-b637-19b1a6324d3f',\n",
       " 'f126ec05-40e5-11ee-b637-19b1a6324d3f',\n",
       " 'f126ec06-40e5-11ee-b637-19b1a6324d3f',\n",
       " 'f126ec07-40e5-11ee-b637-19b1a6324d3f',\n",
       " 'f126ec08-40e5-11ee-b637-19b1a6324d3f',\n",
       " 'f126ec09-40e5-11ee-b637-19b1a6324d3f',\n",
       " 'f126ec0a-40e5-11ee-b637-19b1a6324d3f',\n",
       " 'f126ec0b-40e5-11ee-b637-19b1a6324d3f',\n",
       " 'f126ec0c-40e5-11ee-b637-19b1a6324d3f',\n",
       " 'f126ec0d-40e5-11ee-b637-19b1a6324d3f',\n",
       " 'f126ec0e-40e5-11ee-b637-19b1a6324d3f',\n",
       " 'f126ec0f-40e5-11ee-b637-19b1a6324d3f',\n",
       " 'f126ec10-40e5-11ee-b637-19b1a6324d3f',\n",
       " 'f126ec11-40e5-11ee-b637-19b1a6324d3f',\n",
       " 'f126ec12-40e5-11ee-b637-19b1a6324d3f',\n",
       " 'f126ec13-40e5-11ee-b637-19b1a6324d3f',\n",
       " 'f126ec14-40e5-11ee-b637-19b1a6324d3f',\n",
       " 'f126ec15-40e5-11ee-b637-19b1a6324d3f',\n",
       " 'f126ec16-40e5-11ee-b637-19b1a6324d3f',\n",
       " 'f126ec17-40e5-11ee-b637-19b1a6324d3f',\n",
       " 'f126ec18-40e5-11ee-b637-19b1a6324d3f',\n",
       " 'f126ec19-40e5-11ee-b637-19b1a6324d3f',\n",
       " 'f126ec1a-40e5-11ee-b637-19b1a6324d3f',\n",
       " 'f126ec1b-40e5-11ee-b637-19b1a6324d3f',\n",
       " 'f126ec1c-40e5-11ee-b637-19b1a6324d3f',\n",
       " 'f126ec1d-40e5-11ee-b637-19b1a6324d3f',\n",
       " 'f126ec1e-40e5-11ee-b637-19b1a6324d3f',\n",
       " 'f126ec1f-40e5-11ee-b637-19b1a6324d3f',\n",
       " 'f126ec20-40e5-11ee-b637-19b1a6324d3f',\n",
       " 'f126ec21-40e5-11ee-b637-19b1a6324d3f',\n",
       " 'f126ec22-40e5-11ee-b637-19b1a6324d3f',\n",
       " 'f126ec23-40e5-11ee-b637-19b1a6324d3f',\n",
       " 'f126ec24-40e5-11ee-b637-19b1a6324d3f',\n",
       " 'f126ec25-40e5-11ee-b637-19b1a6324d3f',\n",
       " 'f126ec26-40e5-11ee-b637-19b1a6324d3f',\n",
       " 'f126ec27-40e5-11ee-b637-19b1a6324d3f',\n",
       " 'f126ec28-40e5-11ee-b637-19b1a6324d3f',\n",
       " 'f126ec29-40e5-11ee-b637-19b1a6324d3f',\n",
       " 'f126ec2a-40e5-11ee-b637-19b1a6324d3f',\n",
       " 'f126ec2b-40e5-11ee-b637-19b1a6324d3f',\n",
       " 'f126ec2c-40e5-11ee-b637-19b1a6324d3f',\n",
       " 'f126ec2d-40e5-11ee-b637-19b1a6324d3f',\n",
       " 'f126ec2e-40e5-11ee-b637-19b1a6324d3f',\n",
       " 'f126ec2f-40e5-11ee-b637-19b1a6324d3f',\n",
       " 'f126ec30-40e5-11ee-b637-19b1a6324d3f',\n",
       " 'f126ec31-40e5-11ee-b637-19b1a6324d3f',\n",
       " 'f126ec32-40e5-11ee-b637-19b1a6324d3f',\n",
       " 'f126ec33-40e5-11ee-b637-19b1a6324d3f',\n",
       " 'f126ec34-40e5-11ee-b637-19b1a6324d3f',\n",
       " 'f126ec35-40e5-11ee-b637-19b1a6324d3f',\n",
       " 'f126ec36-40e5-11ee-b637-19b1a6324d3f',\n",
       " 'f126ec37-40e5-11ee-b637-19b1a6324d3f',\n",
       " 'f126ec38-40e5-11ee-b637-19b1a6324d3f',\n",
       " 'f126ec39-40e5-11ee-b637-19b1a6324d3f',\n",
       " 'f126ec3a-40e5-11ee-b637-19b1a6324d3f',\n",
       " 'f126ec3b-40e5-11ee-b637-19b1a6324d3f',\n",
       " 'f126ec3c-40e5-11ee-b637-19b1a6324d3f',\n",
       " 'f126ec3d-40e5-11ee-b637-19b1a6324d3f',\n",
       " 'f126ec3e-40e5-11ee-b637-19b1a6324d3f',\n",
       " 'f126ec3f-40e5-11ee-b637-19b1a6324d3f',\n",
       " 'f126ec40-40e5-11ee-b637-19b1a6324d3f',\n",
       " 'f126ec41-40e5-11ee-b637-19b1a6324d3f',\n",
       " 'f126ec42-40e5-11ee-b637-19b1a6324d3f',\n",
       " 'f126ec43-40e5-11ee-b637-19b1a6324d3f',\n",
       " 'f126ec44-40e5-11ee-b637-19b1a6324d3f',\n",
       " 'f126ec45-40e5-11ee-b637-19b1a6324d3f',\n",
       " 'f126ec46-40e5-11ee-b637-19b1a6324d3f',\n",
       " 'f126ec47-40e5-11ee-b637-19b1a6324d3f',\n",
       " 'f126ec48-40e5-11ee-b637-19b1a6324d3f',\n",
       " 'f126ec49-40e5-11ee-b637-19b1a6324d3f',\n",
       " 'f126ec4a-40e5-11ee-b637-19b1a6324d3f',\n",
       " 'f126ec4b-40e5-11ee-b637-19b1a6324d3f',\n",
       " 'f126ec4c-40e5-11ee-b637-19b1a6324d3f',\n",
       " 'f126ec4d-40e5-11ee-b637-19b1a6324d3f',\n",
       " 'f126ec4e-40e5-11ee-b637-19b1a6324d3f',\n",
       " 'f126ec4f-40e5-11ee-b637-19b1a6324d3f',\n",
       " 'f126ec50-40e5-11ee-b637-19b1a6324d3f',\n",
       " 'f126ec51-40e5-11ee-b637-19b1a6324d3f',\n",
       " 'f126ec52-40e5-11ee-b637-19b1a6324d3f',\n",
       " 'f126ec53-40e5-11ee-b637-19b1a6324d3f',\n",
       " 'f126ec54-40e5-11ee-b637-19b1a6324d3f',\n",
       " 'f126ec55-40e5-11ee-b637-19b1a6324d3f',\n",
       " 'f126ec56-40e5-11ee-b637-19b1a6324d3f',\n",
       " 'f126ec57-40e5-11ee-b637-19b1a6324d3f',\n",
       " 'f126ec58-40e5-11ee-b637-19b1a6324d3f',\n",
       " 'f126ec59-40e5-11ee-b637-19b1a6324d3f',\n",
       " 'f126ec5a-40e5-11ee-b637-19b1a6324d3f',\n",
       " 'f126ec5b-40e5-11ee-b637-19b1a6324d3f',\n",
       " 'f126ec5c-40e5-11ee-b637-19b1a6324d3f',\n",
       " 'f126ec5d-40e5-11ee-b637-19b1a6324d3f',\n",
       " 'f126ec5e-40e5-11ee-b637-19b1a6324d3f',\n",
       " 'f126ec5f-40e5-11ee-b637-19b1a6324d3f',\n",
       " 'f126ec60-40e5-11ee-b637-19b1a6324d3f',\n",
       " 'f126ec61-40e5-11ee-b637-19b1a6324d3f',\n",
       " 'f126ec62-40e5-11ee-b637-19b1a6324d3f',\n",
       " 'f126ec63-40e5-11ee-b637-19b1a6324d3f',\n",
       " 'f126ec64-40e5-11ee-b637-19b1a6324d3f',\n",
       " 'f126ec65-40e5-11ee-b637-19b1a6324d3f',\n",
       " 'f126ec66-40e5-11ee-b637-19b1a6324d3f',\n",
       " 'f126ec67-40e5-11ee-b637-19b1a6324d3f',\n",
       " 'f126ec68-40e5-11ee-b637-19b1a6324d3f',\n",
       " 'f126ec69-40e5-11ee-b637-19b1a6324d3f',\n",
       " 'f126ec6a-40e5-11ee-b637-19b1a6324d3f',\n",
       " 'f126ec6b-40e5-11ee-b637-19b1a6324d3f',\n",
       " 'f126ec6c-40e5-11ee-b637-19b1a6324d3f',\n",
       " 'f126ec6d-40e5-11ee-b637-19b1a6324d3f',\n",
       " 'f126ec6e-40e5-11ee-b637-19b1a6324d3f',\n",
       " 'f126ec6f-40e5-11ee-b637-19b1a6324d3f',\n",
       " 'f126ec70-40e5-11ee-b637-19b1a6324d3f']"
      ]
     },
     "execution_count": 37,
     "metadata": {},
     "output_type": "execute_result"
    }
   ],
   "source": [
    "collection_name = 'llama2_demo'\n",
    "db = Chroma(\n",
    "    collection_name=collection_name,\n",
    "    embedding_function=embeddings,\n",
    "    persist_directory='./'\n",
    ")\n"
   ]
  },
  {
   "cell_type": "code",
   "execution_count": 56,
   "metadata": {},
   "outputs": [
    {
     "data": {
      "text/plain": [
       "['55d03aac-40ea-11ee-b637-19b1a6324d3f',\n",
       " '55d03aad-40ea-11ee-b637-19b1a6324d3f',\n",
       " '55d03aae-40ea-11ee-b637-19b1a6324d3f',\n",
       " '55d03aaf-40ea-11ee-b637-19b1a6324d3f',\n",
       " '55d03ab0-40ea-11ee-b637-19b1a6324d3f',\n",
       " '55d03ab1-40ea-11ee-b637-19b1a6324d3f',\n",
       " '55d03ab2-40ea-11ee-b637-19b1a6324d3f',\n",
       " '55d03ab3-40ea-11ee-b637-19b1a6324d3f',\n",
       " '55d03ab4-40ea-11ee-b637-19b1a6324d3f',\n",
       " '55d03ab5-40ea-11ee-b637-19b1a6324d3f',\n",
       " '55d03ab6-40ea-11ee-b637-19b1a6324d3f',\n",
       " '55d03ab7-40ea-11ee-b637-19b1a6324d3f',\n",
       " '55d03ab8-40ea-11ee-b637-19b1a6324d3f',\n",
       " '55d03ab9-40ea-11ee-b637-19b1a6324d3f',\n",
       " '55d03aba-40ea-11ee-b637-19b1a6324d3f',\n",
       " '55d03abb-40ea-11ee-b637-19b1a6324d3f',\n",
       " '55d03abc-40ea-11ee-b637-19b1a6324d3f',\n",
       " '55d03abd-40ea-11ee-b637-19b1a6324d3f',\n",
       " '55d03abe-40ea-11ee-b637-19b1a6324d3f',\n",
       " '55d03abf-40ea-11ee-b637-19b1a6324d3f',\n",
       " '55d03ac0-40ea-11ee-b637-19b1a6324d3f',\n",
       " '55d03ac1-40ea-11ee-b637-19b1a6324d3f',\n",
       " '55d03ac2-40ea-11ee-b637-19b1a6324d3f',\n",
       " '55d03ac3-40ea-11ee-b637-19b1a6324d3f',\n",
       " '55d03ac4-40ea-11ee-b637-19b1a6324d3f',\n",
       " '55d03ac5-40ea-11ee-b637-19b1a6324d3f',\n",
       " '55d03ac6-40ea-11ee-b637-19b1a6324d3f',\n",
       " '55d03ac7-40ea-11ee-b637-19b1a6324d3f',\n",
       " '55d03ac8-40ea-11ee-b637-19b1a6324d3f',\n",
       " '55d03ac9-40ea-11ee-b637-19b1a6324d3f',\n",
       " '55d03aca-40ea-11ee-b637-19b1a6324d3f',\n",
       " '55d03acb-40ea-11ee-b637-19b1a6324d3f',\n",
       " '55d03acc-40ea-11ee-b637-19b1a6324d3f',\n",
       " '55d03acd-40ea-11ee-b637-19b1a6324d3f',\n",
       " '55d03ace-40ea-11ee-b637-19b1a6324d3f',\n",
       " '55d03acf-40ea-11ee-b637-19b1a6324d3f',\n",
       " '55d03ad0-40ea-11ee-b637-19b1a6324d3f',\n",
       " '55d03ad1-40ea-11ee-b637-19b1a6324d3f',\n",
       " '55d03ad2-40ea-11ee-b637-19b1a6324d3f',\n",
       " '55d03ad3-40ea-11ee-b637-19b1a6324d3f',\n",
       " '55d03ad4-40ea-11ee-b637-19b1a6324d3f',\n",
       " '55d03ad5-40ea-11ee-b637-19b1a6324d3f',\n",
       " '55d03ad6-40ea-11ee-b637-19b1a6324d3f',\n",
       " '55d03ad7-40ea-11ee-b637-19b1a6324d3f',\n",
       " '55d03ad8-40ea-11ee-b637-19b1a6324d3f',\n",
       " '55d03ad9-40ea-11ee-b637-19b1a6324d3f',\n",
       " '55d03ada-40ea-11ee-b637-19b1a6324d3f',\n",
       " '55d03adb-40ea-11ee-b637-19b1a6324d3f',\n",
       " '55d03adc-40ea-11ee-b637-19b1a6324d3f',\n",
       " '55d03add-40ea-11ee-b637-19b1a6324d3f',\n",
       " '55d03ade-40ea-11ee-b637-19b1a6324d3f',\n",
       " '55d03adf-40ea-11ee-b637-19b1a6324d3f',\n",
       " '55d03ae0-40ea-11ee-b637-19b1a6324d3f',\n",
       " '55d03ae1-40ea-11ee-b637-19b1a6324d3f',\n",
       " '55d03ae2-40ea-11ee-b637-19b1a6324d3f',\n",
       " '55d03ae3-40ea-11ee-b637-19b1a6324d3f',\n",
       " '55d03ae4-40ea-11ee-b637-19b1a6324d3f',\n",
       " '55d03ae5-40ea-11ee-b637-19b1a6324d3f',\n",
       " '55d03ae6-40ea-11ee-b637-19b1a6324d3f',\n",
       " '55d03ae7-40ea-11ee-b637-19b1a6324d3f']"
      ]
     },
     "execution_count": 56,
     "metadata": {},
     "output_type": "execute_result"
    }
   ],
   "source": [
    "db.add_documents(splitted_docs)"
   ]
  },
  {
   "cell_type": "markdown",
   "metadata": {},
   "source": [
    "# Test search in Chroma"
   ]
  },
  {
   "cell_type": "code",
   "execution_count": 59,
   "metadata": {},
   "outputs": [
    {
     "name": "stdout",
     "output_type": "stream",
     "text": [
      "[Document(page_content='透過紅利分享保誠分紅保單業務基金的利潤分紅計劃小冊子', metadata={'page': 0, 'source': './with-profits-plan-booklet.pdf'}), Document(page_content='\\u0bc5ʱϗू\\nٙ\\n\\u0bc5ʱϗू', metadata={'page': 4, 'source': './with-profits-plan-booklet.pdf'}), Document(page_content='●云服务部署实践：侧重云服务部署，包括云服务资源规格选型、云服务使用方式\\n等。\\n●云服务使用限制：列举云服务使用限制，包括云服务资源配额、带宽限速等。支持计划级别包年购买可获服务配额企业级赠送1次\\n 说明\\n包年购买企业级支持计划方可享受该服务，需提前 3个工作日提出申请。注意\\n可用性检查仅包年购买企业级支持计划才限额赠送。客户一旦申请该限额增值服务，\\n将无法退订或降级当期支持计划订单。\\n5.6 资源监控与优化\\n针对云上资源的告警情况、负载情况和健康情况进行检查。从监控的角度分析业务场\\n景和历史故障，结合华为云运维最佳实践，提供针对性的优化建议。\\n资源监控与优化包括：', metadata={'page': 13, 'source': './productdesc-supportplans.pdf'}), Document(page_content='目 录\\n1 什么是支持计划 .......................................................................................................................... 1\\n2 产品规格 ......................................................................................................................................2', metadata={'page': 2, 'source': './productdesc-supportplans.pdf'})]\n"
     ]
    }
   ],
   "source": [
    "test_query = '华为云的计费方式是什么样的？'\n",
    "# test_query = 'what is dominant sequence transduction models?'\n",
    "search_docs = db.similarity_search(test_query)\n",
    "print(search_docs)"
   ]
  },
  {
   "cell_type": "code",
   "execution_count": 33,
   "metadata": {},
   "outputs": [],
   "source": [
    "# db.delete_collection()"
   ]
  },
  {
   "cell_type": "markdown",
   "metadata": {
    "id": "sTSC-0ywbPUw"
   },
   "source": [
    "# Build model and transformer pipeline"
   ]
  },
  {
   "cell_type": "code",
   "execution_count": 14,
   "metadata": {
    "colab": {
     "base_uri": "https://localhost:8080/"
    },
    "executionInfo": {
     "elapsed": 24785,
     "status": "ok",
     "timestamp": 1692622092302,
     "user": {
      "displayName": "Jie Ke",
      "userId": "13821873407880707566"
     },
     "user_tz": -480
    },
    "id": "0KeBMiD6cEvb",
    "outputId": "3c403188-f62c-4b9e-bcb0-745b8e47807e",
    "scrolled": true
   },
   "outputs": [
    {
     "name": "stdout",
     "output_type": "stream",
     "text": [
      "huggingface/tokenizers: The current process just got forked, after parallelism has already been used. Disabling parallelism to avoid deadlocks...\n",
      "To disable this warning, you can either:\n",
      "\t- Avoid using `tokenizers` before the fork if possible\n",
      "\t- Explicitly set the environment variable TOKENIZERS_PARALLELISM=(true | false)\n",
      "Defaulting to user installation because normal site-packages is not writeable\n",
      "Requirement already satisfied: accelerate in /home/voyagerke/.local/lib/python3.10/site-packages (0.21.0)\n",
      "Requirement already satisfied: numpy>=1.17 in /home/voyagerke/.local/lib/python3.10/site-packages (from accelerate) (1.25.2)\n",
      "Requirement already satisfied: packaging>=20.0 in /home/voyagerke/.local/lib/python3.10/site-packages (from accelerate) (23.1)\n",
      "Requirement already satisfied: psutil in /home/voyagerke/.local/lib/python3.10/site-packages (from accelerate) (5.9.5)\n",
      "Requirement already satisfied: pyyaml in /usr/lib/python3/dist-packages (from accelerate) (5.4.1)\n",
      "Requirement already satisfied: torch>=1.10.0 in /home/voyagerke/.local/lib/python3.10/site-packages (from accelerate) (2.0.1)\n",
      "Requirement already satisfied: filelock in /home/voyagerke/.local/lib/python3.10/site-packages (from torch>=1.10.0->accelerate) (3.12.2)\n",
      "Requirement already satisfied: typing-extensions in /home/voyagerke/.local/lib/python3.10/site-packages (from torch>=1.10.0->accelerate) (4.7.1)\n",
      "Requirement already satisfied: sympy in /home/voyagerke/.local/lib/python3.10/site-packages (from torch>=1.10.0->accelerate) (1.12)\n",
      "Requirement already satisfied: networkx in /home/voyagerke/.local/lib/python3.10/site-packages (from torch>=1.10.0->accelerate) (3.1)\n",
      "Requirement already satisfied: jinja2 in /home/voyagerke/.local/lib/python3.10/site-packages (from torch>=1.10.0->accelerate) (3.1.2)\n",
      "Requirement already satisfied: nvidia-cuda-nvrtc-cu11==11.7.99 in /home/voyagerke/.local/lib/python3.10/site-packages (from torch>=1.10.0->accelerate) (11.7.99)\n",
      "Requirement already satisfied: nvidia-cuda-runtime-cu11==11.7.99 in /home/voyagerke/.local/lib/python3.10/site-packages (from torch>=1.10.0->accelerate) (11.7.99)\n",
      "Requirement already satisfied: nvidia-cuda-cupti-cu11==11.7.101 in /home/voyagerke/.local/lib/python3.10/site-packages (from torch>=1.10.0->accelerate) (11.7.101)\n",
      "Requirement already satisfied: nvidia-cudnn-cu11==8.5.0.96 in /home/voyagerke/.local/lib/python3.10/site-packages (from torch>=1.10.0->accelerate) (8.5.0.96)\n",
      "Requirement already satisfied: nvidia-cublas-cu11==11.10.3.66 in /home/voyagerke/.local/lib/python3.10/site-packages (from torch>=1.10.0->accelerate) (11.10.3.66)\n",
      "Requirement already satisfied: nvidia-cufft-cu11==10.9.0.58 in /home/voyagerke/.local/lib/python3.10/site-packages (from torch>=1.10.0->accelerate) (10.9.0.58)\n",
      "Requirement already satisfied: nvidia-curand-cu11==10.2.10.91 in /home/voyagerke/.local/lib/python3.10/site-packages (from torch>=1.10.0->accelerate) (10.2.10.91)\n",
      "Requirement already satisfied: nvidia-cusolver-cu11==11.4.0.1 in /home/voyagerke/.local/lib/python3.10/site-packages (from torch>=1.10.0->accelerate) (11.4.0.1)\n",
      "Requirement already satisfied: nvidia-cusparse-cu11==11.7.4.91 in /home/voyagerke/.local/lib/python3.10/site-packages (from torch>=1.10.0->accelerate) (11.7.4.91)\n",
      "Requirement already satisfied: nvidia-nccl-cu11==2.14.3 in /home/voyagerke/.local/lib/python3.10/site-packages (from torch>=1.10.0->accelerate) (2.14.3)\n",
      "Requirement already satisfied: nvidia-nvtx-cu11==11.7.91 in /home/voyagerke/.local/lib/python3.10/site-packages (from torch>=1.10.0->accelerate) (11.7.91)\n",
      "Requirement already satisfied: triton==2.0.0 in /home/voyagerke/.local/lib/python3.10/site-packages (from torch>=1.10.0->accelerate) (2.0.0)\n",
      "Requirement already satisfied: setuptools in /usr/local/lib/python3.10/dist-packages (from nvidia-cublas-cu11==11.10.3.66->torch>=1.10.0->accelerate) (68.0.0)\n",
      "Requirement already satisfied: wheel in /usr/local/lib/python3.10/dist-packages (from nvidia-cublas-cu11==11.10.3.66->torch>=1.10.0->accelerate) (0.41.1)\n",
      "Requirement already satisfied: cmake in /home/voyagerke/.local/lib/python3.10/site-packages (from triton==2.0.0->torch>=1.10.0->accelerate) (3.27.2)\n",
      "Requirement already satisfied: lit in /home/voyagerke/.local/lib/python3.10/site-packages (from triton==2.0.0->torch>=1.10.0->accelerate) (16.0.6)\n",
      "Requirement already satisfied: MarkupSafe>=2.0 in /home/voyagerke/.local/lib/python3.10/site-packages (from jinja2->torch>=1.10.0->accelerate) (2.1.3)\n",
      "Requirement already satisfied: mpmath>=0.19 in /home/voyagerke/.local/lib/python3.10/site-packages (from sympy->torch>=1.10.0->accelerate) (1.3.0)\n",
      "\u001b[33mDEPRECATION: distro-info 1.1build1 has a non-standard version number. pip 23.3 will enforce this behaviour change. A possible replacement is to upgrade to a newer version of distro-info or contact the author to suggest that they release a version with a conforming version number. Discussion can be found at https://github.com/pypa/pip/issues/12063\u001b[0m\u001b[33m\n",
      "\u001b[0mhuggingface/tokenizers: The current process just got forked, after parallelism has already been used. Disabling parallelism to avoid deadlocks...\n",
      "To disable this warning, you can either:\n",
      "\t- Avoid using `tokenizers` before the fork if possible\n",
      "\t- Explicitly set the environment variable TOKENIZERS_PARALLELISM=(true | false)\n",
      "Defaulting to user installation because normal site-packages is not writeable\n",
      "Requirement already satisfied: bitsandbytes in /home/voyagerke/.local/lib/python3.10/site-packages (0.41.1)\n",
      "\u001b[33mDEPRECATION: distro-info 1.1build1 has a non-standard version number. pip 23.3 will enforce this behaviour change. A possible replacement is to upgrade to a newer version of distro-info or contact the author to suggest that they release a version with a conforming version number. Discussion can be found at https://github.com/pypa/pip/issues/12063\u001b[0m\u001b[33m\n",
      "\u001b[0m"
     ]
    }
   ],
   "source": [
    "!pip install accelerate\n",
    "!pip install bitsandbytes"
   ]
  },
  {
   "cell_type": "code",
   "execution_count": 15,
   "metadata": {
    "colab": {
     "base_uri": "https://localhost:8080/",
     "height": 215,
     "referenced_widgets": [
      "b3ca2dda95c7458aa34e1affd35ce6c5",
      "290bba95208d41a9859be6fdf0fd9162",
      "6753ef627c3241efb2f532c68ef26d42",
      "c2ba7e405d0c41519270e48af899d6b8",
      "8a477b2736984ef8a76d7e3878323e8d",
      "ac18d1c538f84444861d4255377a603c",
      "a2260c5958d04f9a8ef16e9f33045425",
      "0da0da8ffc18498bb676221d768fd339",
      "217de16416484c92b77b187222607d92",
      "39a7407817004510b85e45949bf4532a",
      "0f8bfea3563c4cf0b8a0024e347dfc96",
      "ec7fe87663d144f8a1aeb477c2d022f4",
      "5b0edbb973ab4b0aa0ff4e6426465dcf",
      "f8c0ce8212e6458eb7a34f3d3cb14231",
      "e96aabf90f7341a5b147ce9553e9c14b",
      "96108b6ca9204839af176eda7afd0049",
      "12aff629989341fdbd8c23465fe43e10",
      "9abd89ae79e04ce686c3103cd29af08f",
      "d8439c2c34b44be5a43055af77ece713",
      "4adfcca6abeb46bd82ea2f7323c518bb",
      "1dae3525d2c94656bcda3c8ea2cdf7d6",
      "652d98faf01845b38baadf89af5f7c10",
      "372e13b30ab7400993861d3523a3c268",
      "f48c4bd3516d4134b08cf9536d44da37",
      "27466edededd40f988b935d9471eaf3f",
      "2aac1bdbeff94ee2a462db962ece1b5f",
      "f2d5d5f9c7e2405c8e9defeab42778d3",
      "3c32370319e54395bcc7d129aaab84bd",
      "c1f707cb3960413db86ee33ce346e2b0",
      "ac0deace83194ef79754ae5cf78242cb",
      "686c627bad6149508d52b7a9bbc76dd1",
      "004d1bd60ce346c29af7b9b03fa8e81d",
      "690d47749161426c82dee36209ea1de3",
      "99eb59e647dc40389ebe7fe6f9bae8d9",
      "8f0ff2e87fc348b0bb48aa27555a3f49",
      "bf20104fa2ad48c0a86960fb9fe5876a",
      "88f87969ad2444159b84c88ee5dbf13c",
      "7cf6c9715f22497a8708eb58e36829dd",
      "95da6821ae4041158c26d4b4aa07646d",
      "106890bf2ad54901985071bd80e102c5",
      "cf21efca556642b494b815577a314b5a",
      "3966c4b83dea4e7d92f44985f020c491",
      "4a24d0a8293548a4967c9b7d3cd0fe93",
      "ce046e7c5f2741a798666d018a7782db",
      "7022a295aff949ef8243406667d23b99",
      "b7d815284baa4b1686d62dc7f8370ce6",
      "820c9e5b15c54b5bafc886770059ab80",
      "727f8e555f4147828a65dda4c3d4e5f0",
      "f299f204b11f4132bfc771680d9fc563",
      "13269879221342949b321c2035079068",
      "60210099713d4f03967b7b738153aabf",
      "01df2cfd842b4168a5b2c9f1822fc875",
      "4f7ac39e566640e29173c7390879ecc2",
      "aca12d4a77314027b30b232ec010ef83",
      "34719f671b1143f98d4e92611dac6dce"
     ]
    },
    "id": "ro2sF5w6bUBy",
    "outputId": "e7ca4ce2-54f7-4c72-a891-ff470d57f847"
   },
   "outputs": [
    {
     "name": "stderr",
     "output_type": "stream",
     "text": [
      "You are using the legacy behaviour of the <class 'transformers.models.llama.tokenization_llama.LlamaTokenizer'>. This means that tokens that come after special tokens will not be properly handled. We recommend you to read the related pull request available at https://github.com/huggingface/transformers/pull/24565\n",
      "Loading checkpoint shards: 100%|█████████████████████████████████████████████████████████████████████████████████████████████████████████████████████████| 2/2 [01:31<00:00, 45.89s/it]\n"
     ]
    }
   ],
   "source": [
    "model_path = '/mnt/h/Chinese-Llama-2-7b-4bit'\n",
    "tokenizer = AutoTokenizer.from_pretrained(model_path, use_fast=False)\n",
    "model = AutoModelForCausalLM.from_pretrained(\n",
    "    model_path,\n",
    "    load_in_4bit=True,\n",
    "    torch_dtype=torch.float16,\n",
    "    device_map='auto'\n",
    ")"
   ]
  },
  {
   "cell_type": "code",
   "execution_count": 16,
   "metadata": {
    "id": "BxWm8XcigCOh"
   },
   "outputs": [
    {
     "name": "stderr",
     "output_type": "stream",
     "text": [
      "Xformers is not installed correctly. If you want to use memory_efficient_attention to accelerate training use the following command to install Xformers\n",
      "pip install xformers.\n"
     ]
    }
   ],
   "source": [
    "# pipe = pipeline(\n",
    "#     \"text-generation\",\n",
    "#     model=model,\n",
    "#     torch_dtype=torch.bfloat16,\n",
    "#     device_map='auto',\n",
    "#     max_new_tokens=512,\n",
    "#     do_sample=True,\n",
    "#     top_k=30,\n",
    "#     num_return_sequences=1,\n",
    "#     tokenizer=tokenizer,\n",
    "#     eos_token_id = tokenizer.eos_token_id\n",
    "# )\n",
    "generation_config = GenerationConfig.from_pretrained(model_path)\n",
    "pipe = pipeline(\n",
    "    \"text-generation\",\n",
    "    model=model,\n",
    "    tokenizer=tokenizer,\n",
    "    max_length=2048,\n",
    "    temperature=0,\n",
    "    top_p=0.95,\n",
    "    repetition_penalty=1.15,\n",
    "    generation_config=generation_config,\n",
    ")"
   ]
  },
  {
   "cell_type": "code",
   "execution_count": 17,
   "metadata": {
    "id": "pMhcwjCUgKYG",
    "jupyter": {
     "source_hidden": true
    }
   },
   "outputs": [],
   "source": [
    "B_INST, E_INST = \"[INST]\", \"[/INST]\"\n",
    "B_SYS, E_SYS = \"<<SYS>>\\n\", \"\\n<</SYS>>\\n\\n\"\n",
    "DEFAULT_SYSTEM_PROMPT = \"\"\"\\\n",
    "You are a helpful, respectful and honest assistant. Always answer as helpfully as possible, while being safe. Your answers should not include any harmful, unethical, racist, sexist, toxic, dangerous, or illegal content. Please ensure that your responses are socially unbiased and positive in nature.\n",
    "\n",
    "If a question does not make any sense, or is not factually coherent, explain why instead of answering something not correct. If you don't know the answer to a question, please don't share false information.\"\"\"\n",
    "\n",
    "def get_prompt(instruction, new_system_prompt=DEFAULT_SYSTEM_PROMPT ):\n",
    "    SYSTEM_PROMPT = B_SYS + new_system_prompt + E_SYS\n",
    "    prompt_template =  B_INST + SYSTEM_PROMPT + instruction + E_INST\n",
    "    return prompt_template"
   ]
  },
  {
   "cell_type": "code",
   "execution_count": 18,
   "metadata": {},
   "outputs": [
    {
     "data": {
      "text/plain": [
       "\"[INST]<<SYS>>\\nYou are a helpful, respectful and honest assistant. Always answer as helpfully as possible, while being safe. Your answers should not include any harmful, unethical, racist, sexist, toxic, dangerous, or illegal content. Please ensure that your responses are socially unbiased and positive in nature.\\n\\nIf a question does not make any sense, or is not factually coherent, explain why instead of answering something not correct. If you don't know the answer to a question, please don't share false information.\\n<</SYS>>\\n\\nWhat is the temperature in Melbourne?[/INST]\""
      ]
     },
     "execution_count": 18,
     "metadata": {},
     "output_type": "execute_result"
    }
   ],
   "source": [
    "instruction = \"What is the temperature in Melbourne?\"\n",
    "\n",
    "get_prompt(instruction)"
   ]
  },
  {
   "cell_type": "code",
   "execution_count": 19,
   "metadata": {},
   "outputs": [
    {
     "name": "stdout",
     "output_type": "stream",
     "text": [
      "[INST]<<SYS>>\n",
      "You are an advanced assistant that excels at translation. \n",
      "<</SYS>>\n",
      "\n",
      "Convert the following text from English to French:\n",
      "\n",
      " {text}[/INST]\n"
     ]
    }
   ],
   "source": [
    "llm = HuggingFacePipeline(pipeline=pipe, model_kwargs={'temperature':0})\n",
    "system_prompt = \"You are an advanced assistant that excels at translation. \"\n",
    "instruction = \"Convert the following text from English to French:\\n\\n {text}\"\n",
    "template = get_prompt(instruction, system_prompt)\n",
    "print(template)\n",
    "\n",
    "prompt = PromptTemplate(template=template, input_variables=[\"text\"])\n",
    "llm_chain = LLMChain(prompt=prompt, llm=llm)"
   ]
  },
  {
   "cell_type": "code",
   "execution_count": 20,
   "metadata": {},
   "outputs": [
    {
     "name": "stderr",
     "output_type": "stream",
     "text": [
      "/home/voyagerke/.local/lib/python3.10/site-packages/bitsandbytes/nn/modules.py:224: UserWarning: Input type into Linear4bit is torch.float16, but bnb_4bit_compute_type=torch.float32 (default). This will lead to slow inference or training speed.\n",
      "  warnings.warn(f'Input type into Linear4bit is torch.float16, but bnb_4bit_compute_type=torch.float32 (default). This will lead to slow inference or training speed.')\n"
     ]
    }
   ],
   "source": [
    "text = \"How are you today?\"\n",
    "output = llm_chain.run(text)"
   ]
  },
  {
   "cell_type": "code",
   "execution_count": 21,
   "metadata": {},
   "outputs": [],
   "source": [
    "def parse_text(text):\n",
    "        wrapped_text = textwrap.fill(text, width=100)\n",
    "        print(wrapped_text +'\\n\\n')\n",
    "        # return assistant_text"
   ]
  },
  {
   "cell_type": "code",
   "execution_count": 22,
   "metadata": {},
   "outputs": [
    {
     "name": "stdout",
     "output_type": "stream",
     "text": [
      " Quel est votre état aujourd'hui?\n",
      "\n",
      "\n"
     ]
    }
   ],
   "source": [
    "parse_text(output)"
   ]
  },
  {
   "cell_type": "code",
   "execution_count": 23,
   "metadata": {},
   "outputs": [],
   "source": [
    "from langchain.memory import ConversationBufferMemory\n",
    "from langchain.prompts import PromptTemplate"
   ]
  },
  {
   "cell_type": "code",
   "execution_count": 24,
   "metadata": {},
   "outputs": [],
   "source": [
    "template = \"\"\"Use the following pieces of context to answer the question at the end. If you don't know the answer,\\\n",
    "just say that you don't know, don't try to make up an answer.\n",
    "\n",
    "{context}\n",
    "\n",
    "{history}\n",
    "Question: {question}\n",
    "Helpful Answer:\"\"\"\n",
    "prompt = PromptTemplate(input_variables=[\"history\", \"context\", \"question\"], template=template)\n",
    "memory = ConversationBufferMemory(input_key='question', memory_key='history')"
   ]
  },
  {
   "cell_type": "code",
   "execution_count": 41,
   "metadata": {},
   "outputs": [],
   "source": [
    "import logging\n",
    "logging.getLogger(\"langchain.retrievers.multi_query\").setLevel(logging.INFO)"
   ]
  },
  {
   "cell_type": "code",
   "execution_count": 43,
   "metadata": {},
   "outputs": [],
   "source": [
    "from langchain.retrievers.multi_query import MultiQueryRetriever\n",
    "\n",
    "# retriever_from_llm = MultiQueryRetriever.from_llm(retriever=db.as_retriever(), llm=llm)\n",
    "retriever_from_llm = db.as_retriever()"
   ]
  },
  {
   "cell_type": "code",
   "execution_count": 52,
   "metadata": {},
   "outputs": [
    {
     "name": "stdout",
     "output_type": "stream",
     "text": [
      "[Document(page_content='透過紅利分享保誠分紅保單業務基金的利潤分紅計劃小冊子', metadata={'page': 0, 'source': './with-profits-plan-booklet.pdf'}), Document(page_content='\\u0bc5ʱϗू\\nٙ\\n\\u0bc5ʱϗू', metadata={'page': 4, 'source': './with-profits-plan-booklet.pdf'}), Document(page_content='在適當情況下 ， 股票類別證券的投資比例可能會因應市場情況轉變而調節 。例如當利率偏低 ， 有關股票投資比例亦將較低 ，  \\n而在利率上升時比例則會較高 （受限於長期目標股票資產分配） 。ׂ\\n0%ˢԷ\\nᗇᗇ\\n在一般情況下 ，保證回報愈低 ， 投資在股票的比例愈高。', metadata={'page': 7, 'source': './with-profits-plan-booklet.pdf'}), Document(page_content='委任精算師作出書面聲明 ， 確保已採取適當措施有效管理我們對保單持有人及股東的責任之間的潛在利益衝突 ， 尤其於派發\\n給保單持有人紅利的相關部分。\\n此外 ， 我們亦有指定委員會審視投資策略和表現 ， 並監察相關基金的實際表現 。k', metadata={'page': 6, 'source': './with-profits-plan-booklet.pdf'})]\n"
     ]
    }
   ],
   "source": [
    "retri_docs = retriever_from_llm.get_relevant_documents('什么是遗留资产?')\n",
    "print(retri_docs)"
   ]
  },
  {
   "cell_type": "code",
   "execution_count": 45,
   "metadata": {},
   "outputs": [],
   "source": [
    "qa = RetrievalQA.from_chain_type(\n",
    "    llm = llm,\n",
    "    chain_type = 'stuff',\n",
    "    retriever = retriever_from_llm,\n",
    "    return_source_documents = True,\n",
    "    chain_type_kwargs = {\"prompt\": prompt, \"memory\": memory}\n",
    ")"
   ]
  },
  {
   "cell_type": "code",
   "execution_count": 47,
   "metadata": {},
   "outputs": [
    {
     "name": "stdin",
     "output_type": "stream",
     "text": [
      "\n",
      "Enter a query:  What's the model architecture of attention?\n"
     ]
    },
    {
     "name": "stdout",
     "output_type": "stream",
     "text": [
      "{'query': \"What's the model architecture of attention?\", 'result': ' The attention mechanism used in the paper is a self-attention layer followed by a point-wise feed-forward network. This combines the advantages of both approaches while reducing the overall computational complexity compared to traditional multi-head attention models. ', 'source_documents': [Document(page_content='Attention mechanisms have become an integral part of compelling sequence modeling and transduc-\\ntion models in various tasks, allowing modeling of dependencies without regard to their distance in\\nthe input or output sequences [ 2,19]. In all but a few cases [ 27], however, such attention mechanisms', metadata={'page': 1, 'source': './attention is all you need.pdf'}), Document(page_content='In this work we employ h= 8 parallel attention layers, or heads. For each of these we use\\ndk=dv=dmodel/h= 64 . Due to the reduced dimension of each head, the total computational cost\\nis similar to that of single-head attention with full dimensionality.\\n3.2.3 Applications of Attention in our Model', metadata={'page': 4, 'source': './attention is all you need.pdf'}), Document(page_content='An attention function can be described as mapping a query and a set of key-value pairs to an output,\\nwhere the query, keys, values, and output are all vectors. The output is computed as a weighted sum\\n3', metadata={'page': 2, 'source': './attention is all you need.pdf'}), Document(page_content='convolution is equal to the combination of a self-attention layer and a point-wise feed-forward layer,\\nthe approach we take in our model.\\nAs side benefit, self-attention could yield more interpretable models. We inspect attention distributions', metadata={'page': 6, 'source': './attention is all you need.pdf'})]}\n"
     ]
    }
   ],
   "source": [
    "query = input(\"\\nEnter a query: \")\n",
    "res = qa(query)\n",
    "print(res)"
   ]
  },
  {
   "cell_type": "code",
   "execution_count": null,
   "metadata": {},
   "outputs": [],
   "source": [
    "while True:\n",
    "    query = input(\"\\nEnter a query: \")\n",
    "    if query == \"exit\":\n",
    "        break\n",
    "    res = qa(query)\n",
    "    answer, docs = res[\"\"]"
   ]
  },
  {
   "cell_type": "code",
   "execution_count": null,
   "metadata": {},
   "outputs": [],
   "source": [
    "def cut_off_text(text, prompt):\n",
    "    cutoff_phrase = prompt\n",
    "    index = text.find(cutoff_phrase)\n",
    "    if index != -1:\n",
    "        return text[:index]\n",
    "    else:\n",
    "        return text\n",
    "\n",
    "def remove_substring(string, substring):\n",
    "    return string.replace(substring, \"\")\n",
    "\n",
    "\n",
    "def generate(text):\n",
    "    prompt = get_prompt(text)\n",
    "    with torch.autocast('cuda', dtype=torch.bfloat16):\n",
    "        inputs = tokenizer(prompt, return_tensors=\"pt\").to('cuda')\n",
    "        outputs = model.generate(**inputs,\n",
    "                                 max_new_tokens=512,\n",
    "                                 eos_token_id=tokenizer.eos_token_id,\n",
    "                                 pad_token_id=tokenizer.eos_token_id,\n",
    "                                 )\n",
    "        final_outputs = tokenizer.batch_decode(outputs, skip_special_tokens=True)[0]\n",
    "        final_outputs = cut_off_text(final_outputs, '</s>')\n",
    "        final_outputs = remove_substring(final_outputs, prompt)\n",
    "\n",
    "    return final_outputs#, outputs"
   ]
  }
 ],
 "metadata": {
  "accelerator": "GPU",
  "colab": {
   "authorship_tag": "ABX9TyMn/dsfgwYF5S8zw5naOMhL",
   "gpuType": "T4",
   "provenance": []
  },
  "kernelspec": {
   "display_name": "Python 3 (ipykernel)",
   "language": "python",
   "name": "python3"
  },
  "language_info": {
   "codemirror_mode": {
    "name": "ipython",
    "version": 3
   },
   "file_extension": ".py",
   "mimetype": "text/x-python",
   "name": "python",
   "nbconvert_exporter": "python",
   "pygments_lexer": "ipython3",
   "version": "3.10.12"
  },
  "widgets": {
   "application/vnd.jupyter.widget-state+json": {
    "004d1bd60ce346c29af7b9b03fa8e81d": {
     "model_module": "@jupyter-widgets/base",
     "model_module_version": "1.2.0",
     "model_name": "LayoutModel",
     "state": {
      "_model_module": "@jupyter-widgets/base",
      "_model_module_version": "1.2.0",
      "_model_name": "LayoutModel",
      "_view_count": null,
      "_view_module": "@jupyter-widgets/base",
      "_view_module_version": "1.2.0",
      "_view_name": "LayoutView",
      "align_content": null,
      "align_items": null,
      "align_self": null,
      "border": null,
      "bottom": null,
      "display": null,
      "flex": null,
      "flex_flow": null,
      "grid_area": null,
      "grid_auto_columns": null,
      "grid_auto_flow": null,
      "grid_auto_rows": null,
      "grid_column": null,
      "grid_gap": null,
      "grid_row": null,
      "grid_template_areas": null,
      "grid_template_columns": null,
      "grid_template_rows": null,
      "height": null,
      "justify_content": null,
      "justify_items": null,
      "left": null,
      "margin": null,
      "max_height": null,
      "max_width": null,
      "min_height": null,
      "min_width": null,
      "object_fit": null,
      "object_position": null,
      "order": null,
      "overflow": null,
      "overflow_x": null,
      "overflow_y": null,
      "padding": null,
      "right": null,
      "top": null,
      "visibility": null,
      "width": null
     }
    },
    "01df2cfd842b4168a5b2c9f1822fc875": {
     "model_module": "@jupyter-widgets/base",
     "model_module_version": "1.2.0",
     "model_name": "LayoutModel",
     "state": {
      "_model_module": "@jupyter-widgets/base",
      "_model_module_version": "1.2.0",
      "_model_name": "LayoutModel",
      "_view_count": null,
      "_view_module": "@jupyter-widgets/base",
      "_view_module_version": "1.2.0",
      "_view_name": "LayoutView",
      "align_content": null,
      "align_items": null,
      "align_self": null,
      "border": null,
      "bottom": null,
      "display": null,
      "flex": null,
      "flex_flow": null,
      "grid_area": null,
      "grid_auto_columns": null,
      "grid_auto_flow": null,
      "grid_auto_rows": null,
      "grid_column": null,
      "grid_gap": null,
      "grid_row": null,
      "grid_template_areas": null,
      "grid_template_columns": null,
      "grid_template_rows": null,
      "height": null,
      "justify_content": null,
      "justify_items": null,
      "left": null,
      "margin": null,
      "max_height": null,
      "max_width": null,
      "min_height": null,
      "min_width": null,
      "object_fit": null,
      "object_position": null,
      "order": null,
      "overflow": null,
      "overflow_x": null,
      "overflow_y": null,
      "padding": null,
      "right": null,
      "top": null,
      "visibility": null,
      "width": null
     }
    },
    "0da0da8ffc18498bb676221d768fd339": {
     "model_module": "@jupyter-widgets/base",
     "model_module_version": "1.2.0",
     "model_name": "LayoutModel",
     "state": {
      "_model_module": "@jupyter-widgets/base",
      "_model_module_version": "1.2.0",
      "_model_name": "LayoutModel",
      "_view_count": null,
      "_view_module": "@jupyter-widgets/base",
      "_view_module_version": "1.2.0",
      "_view_name": "LayoutView",
      "align_content": null,
      "align_items": null,
      "align_self": null,
      "border": null,
      "bottom": null,
      "display": null,
      "flex": null,
      "flex_flow": null,
      "grid_area": null,
      "grid_auto_columns": null,
      "grid_auto_flow": null,
      "grid_auto_rows": null,
      "grid_column": null,
      "grid_gap": null,
      "grid_row": null,
      "grid_template_areas": null,
      "grid_template_columns": null,
      "grid_template_rows": null,
      "height": null,
      "justify_content": null,
      "justify_items": null,
      "left": null,
      "margin": null,
      "max_height": null,
      "max_width": null,
      "min_height": null,
      "min_width": null,
      "object_fit": null,
      "object_position": null,
      "order": null,
      "overflow": null,
      "overflow_x": null,
      "overflow_y": null,
      "padding": null,
      "right": null,
      "top": null,
      "visibility": null,
      "width": null
     }
    },
    "0f8bfea3563c4cf0b8a0024e347dfc96": {
     "model_module": "@jupyter-widgets/controls",
     "model_module_version": "1.5.0",
     "model_name": "DescriptionStyleModel",
     "state": {
      "_model_module": "@jupyter-widgets/controls",
      "_model_module_version": "1.5.0",
      "_model_name": "DescriptionStyleModel",
      "_view_count": null,
      "_view_module": "@jupyter-widgets/base",
      "_view_module_version": "1.2.0",
      "_view_name": "StyleView",
      "description_width": ""
     }
    },
    "106890bf2ad54901985071bd80e102c5": {
     "model_module": "@jupyter-widgets/controls",
     "model_module_version": "1.5.0",
     "model_name": "DescriptionStyleModel",
     "state": {
      "_model_module": "@jupyter-widgets/controls",
      "_model_module_version": "1.5.0",
      "_model_name": "DescriptionStyleModel",
      "_view_count": null,
      "_view_module": "@jupyter-widgets/base",
      "_view_module_version": "1.2.0",
      "_view_name": "StyleView",
      "description_width": ""
     }
    },
    "12aff629989341fdbd8c23465fe43e10": {
     "model_module": "@jupyter-widgets/base",
     "model_module_version": "1.2.0",
     "model_name": "LayoutModel",
     "state": {
      "_model_module": "@jupyter-widgets/base",
      "_model_module_version": "1.2.0",
      "_model_name": "LayoutModel",
      "_view_count": null,
      "_view_module": "@jupyter-widgets/base",
      "_view_module_version": "1.2.0",
      "_view_name": "LayoutView",
      "align_content": null,
      "align_items": null,
      "align_self": null,
      "border": null,
      "bottom": null,
      "display": null,
      "flex": null,
      "flex_flow": null,
      "grid_area": null,
      "grid_auto_columns": null,
      "grid_auto_flow": null,
      "grid_auto_rows": null,
      "grid_column": null,
      "grid_gap": null,
      "grid_row": null,
      "grid_template_areas": null,
      "grid_template_columns": null,
      "grid_template_rows": null,
      "height": null,
      "justify_content": null,
      "justify_items": null,
      "left": null,
      "margin": null,
      "max_height": null,
      "max_width": null,
      "min_height": null,
      "min_width": null,
      "object_fit": null,
      "object_position": null,
      "order": null,
      "overflow": null,
      "overflow_x": null,
      "overflow_y": null,
      "padding": null,
      "right": null,
      "top": null,
      "visibility": null,
      "width": null
     }
    },
    "13269879221342949b321c2035079068": {
     "model_module": "@jupyter-widgets/base",
     "model_module_version": "1.2.0",
     "model_name": "LayoutModel",
     "state": {
      "_model_module": "@jupyter-widgets/base",
      "_model_module_version": "1.2.0",
      "_model_name": "LayoutModel",
      "_view_count": null,
      "_view_module": "@jupyter-widgets/base",
      "_view_module_version": "1.2.0",
      "_view_name": "LayoutView",
      "align_content": null,
      "align_items": null,
      "align_self": null,
      "border": null,
      "bottom": null,
      "display": null,
      "flex": null,
      "flex_flow": null,
      "grid_area": null,
      "grid_auto_columns": null,
      "grid_auto_flow": null,
      "grid_auto_rows": null,
      "grid_column": null,
      "grid_gap": null,
      "grid_row": null,
      "grid_template_areas": null,
      "grid_template_columns": null,
      "grid_template_rows": null,
      "height": null,
      "justify_content": null,
      "justify_items": null,
      "left": null,
      "margin": null,
      "max_height": null,
      "max_width": null,
      "min_height": null,
      "min_width": null,
      "object_fit": null,
      "object_position": null,
      "order": null,
      "overflow": null,
      "overflow_x": null,
      "overflow_y": null,
      "padding": null,
      "right": null,
      "top": null,
      "visibility": null,
      "width": null
     }
    },
    "1dae3525d2c94656bcda3c8ea2cdf7d6": {
     "model_module": "@jupyter-widgets/base",
     "model_module_version": "1.2.0",
     "model_name": "LayoutModel",
     "state": {
      "_model_module": "@jupyter-widgets/base",
      "_model_module_version": "1.2.0",
      "_model_name": "LayoutModel",
      "_view_count": null,
      "_view_module": "@jupyter-widgets/base",
      "_view_module_version": "1.2.0",
      "_view_name": "LayoutView",
      "align_content": null,
      "align_items": null,
      "align_self": null,
      "border": null,
      "bottom": null,
      "display": null,
      "flex": null,
      "flex_flow": null,
      "grid_area": null,
      "grid_auto_columns": null,
      "grid_auto_flow": null,
      "grid_auto_rows": null,
      "grid_column": null,
      "grid_gap": null,
      "grid_row": null,
      "grid_template_areas": null,
      "grid_template_columns": null,
      "grid_template_rows": null,
      "height": null,
      "justify_content": null,
      "justify_items": null,
      "left": null,
      "margin": null,
      "max_height": null,
      "max_width": null,
      "min_height": null,
      "min_width": null,
      "object_fit": null,
      "object_position": null,
      "order": null,
      "overflow": null,
      "overflow_x": null,
      "overflow_y": null,
      "padding": null,
      "right": null,
      "top": null,
      "visibility": null,
      "width": null
     }
    },
    "217de16416484c92b77b187222607d92": {
     "model_module": "@jupyter-widgets/controls",
     "model_module_version": "1.5.0",
     "model_name": "ProgressStyleModel",
     "state": {
      "_model_module": "@jupyter-widgets/controls",
      "_model_module_version": "1.5.0",
      "_model_name": "ProgressStyleModel",
      "_view_count": null,
      "_view_module": "@jupyter-widgets/base",
      "_view_module_version": "1.2.0",
      "_view_name": "StyleView",
      "bar_color": null,
      "description_width": ""
     }
    },
    "27466edededd40f988b935d9471eaf3f": {
     "model_module": "@jupyter-widgets/controls",
     "model_module_version": "1.5.0",
     "model_name": "FloatProgressModel",
     "state": {
      "_dom_classes": [],
      "_model_module": "@jupyter-widgets/controls",
      "_model_module_version": "1.5.0",
      "_model_name": "FloatProgressModel",
      "_view_count": null,
      "_view_module": "@jupyter-widgets/controls",
      "_view_module_version": "1.5.0",
      "_view_name": "ProgressView",
      "bar_style": "success",
      "description": "",
      "description_tooltip": null,
      "layout": "IPY_MODEL_ac0deace83194ef79754ae5cf78242cb",
      "max": 9976637886,
      "min": 0,
      "orientation": "horizontal",
      "style": "IPY_MODEL_686c627bad6149508d52b7a9bbc76dd1",
      "value": 9976637886
     }
    },
    "290bba95208d41a9859be6fdf0fd9162": {
     "model_module": "@jupyter-widgets/controls",
     "model_module_version": "1.5.0",
     "model_name": "HTMLModel",
     "state": {
      "_dom_classes": [],
      "_model_module": "@jupyter-widgets/controls",
      "_model_module_version": "1.5.0",
      "_model_name": "HTMLModel",
      "_view_count": null,
      "_view_module": "@jupyter-widgets/controls",
      "_view_module_version": "1.5.0",
      "_view_name": "HTMLView",
      "description": "",
      "description_tooltip": null,
      "layout": "IPY_MODEL_ac18d1c538f84444861d4255377a603c",
      "placeholder": "​",
      "style": "IPY_MODEL_a2260c5958d04f9a8ef16e9f33045425",
      "value": "Downloading (…)model.bin.index.json: 100%"
     }
    },
    "2aac1bdbeff94ee2a462db962ece1b5f": {
     "model_module": "@jupyter-widgets/controls",
     "model_module_version": "1.5.0",
     "model_name": "HTMLModel",
     "state": {
      "_dom_classes": [],
      "_model_module": "@jupyter-widgets/controls",
      "_model_module_version": "1.5.0",
      "_model_name": "HTMLModel",
      "_view_count": null,
      "_view_module": "@jupyter-widgets/controls",
      "_view_module_version": "1.5.0",
      "_view_name": "HTMLView",
      "description": "",
      "description_tooltip": null,
      "layout": "IPY_MODEL_004d1bd60ce346c29af7b9b03fa8e81d",
      "placeholder": "​",
      "style": "IPY_MODEL_690d47749161426c82dee36209ea1de3",
      "value": " 9.98G/9.98G [01:17&lt;00:00, 261MB/s]"
     }
    },
    "34719f671b1143f98d4e92611dac6dce": {
     "model_module": "@jupyter-widgets/controls",
     "model_module_version": "1.5.0",
     "model_name": "DescriptionStyleModel",
     "state": {
      "_model_module": "@jupyter-widgets/controls",
      "_model_module_version": "1.5.0",
      "_model_name": "DescriptionStyleModel",
      "_view_count": null,
      "_view_module": "@jupyter-widgets/base",
      "_view_module_version": "1.2.0",
      "_view_name": "StyleView",
      "description_width": ""
     }
    },
    "372e13b30ab7400993861d3523a3c268": {
     "model_module": "@jupyter-widgets/controls",
     "model_module_version": "1.5.0",
     "model_name": "HBoxModel",
     "state": {
      "_dom_classes": [],
      "_model_module": "@jupyter-widgets/controls",
      "_model_module_version": "1.5.0",
      "_model_name": "HBoxModel",
      "_view_count": null,
      "_view_module": "@jupyter-widgets/controls",
      "_view_module_version": "1.5.0",
      "_view_name": "HBoxView",
      "box_style": "",
      "children": [
       "IPY_MODEL_f48c4bd3516d4134b08cf9536d44da37",
       "IPY_MODEL_27466edededd40f988b935d9471eaf3f",
       "IPY_MODEL_2aac1bdbeff94ee2a462db962ece1b5f"
      ],
      "layout": "IPY_MODEL_f2d5d5f9c7e2405c8e9defeab42778d3"
     }
    },
    "3966c4b83dea4e7d92f44985f020c491": {
     "model_module": "@jupyter-widgets/controls",
     "model_module_version": "1.5.0",
     "model_name": "ProgressStyleModel",
     "state": {
      "_model_module": "@jupyter-widgets/controls",
      "_model_module_version": "1.5.0",
      "_model_name": "ProgressStyleModel",
      "_view_count": null,
      "_view_module": "@jupyter-widgets/base",
      "_view_module_version": "1.2.0",
      "_view_name": "StyleView",
      "bar_color": null,
      "description_width": ""
     }
    },
    "39a7407817004510b85e45949bf4532a": {
     "model_module": "@jupyter-widgets/base",
     "model_module_version": "1.2.0",
     "model_name": "LayoutModel",
     "state": {
      "_model_module": "@jupyter-widgets/base",
      "_model_module_version": "1.2.0",
      "_model_name": "LayoutModel",
      "_view_count": null,
      "_view_module": "@jupyter-widgets/base",
      "_view_module_version": "1.2.0",
      "_view_name": "LayoutView",
      "align_content": null,
      "align_items": null,
      "align_self": null,
      "border": null,
      "bottom": null,
      "display": null,
      "flex": null,
      "flex_flow": null,
      "grid_area": null,
      "grid_auto_columns": null,
      "grid_auto_flow": null,
      "grid_auto_rows": null,
      "grid_column": null,
      "grid_gap": null,
      "grid_row": null,
      "grid_template_areas": null,
      "grid_template_columns": null,
      "grid_template_rows": null,
      "height": null,
      "justify_content": null,
      "justify_items": null,
      "left": null,
      "margin": null,
      "max_height": null,
      "max_width": null,
      "min_height": null,
      "min_width": null,
      "object_fit": null,
      "object_position": null,
      "order": null,
      "overflow": null,
      "overflow_x": null,
      "overflow_y": null,
      "padding": null,
      "right": null,
      "top": null,
      "visibility": null,
      "width": null
     }
    },
    "3c32370319e54395bcc7d129aaab84bd": {
     "model_module": "@jupyter-widgets/base",
     "model_module_version": "1.2.0",
     "model_name": "LayoutModel",
     "state": {
      "_model_module": "@jupyter-widgets/base",
      "_model_module_version": "1.2.0",
      "_model_name": "LayoutModel",
      "_view_count": null,
      "_view_module": "@jupyter-widgets/base",
      "_view_module_version": "1.2.0",
      "_view_name": "LayoutView",
      "align_content": null,
      "align_items": null,
      "align_self": null,
      "border": null,
      "bottom": null,
      "display": null,
      "flex": null,
      "flex_flow": null,
      "grid_area": null,
      "grid_auto_columns": null,
      "grid_auto_flow": null,
      "grid_auto_rows": null,
      "grid_column": null,
      "grid_gap": null,
      "grid_row": null,
      "grid_template_areas": null,
      "grid_template_columns": null,
      "grid_template_rows": null,
      "height": null,
      "justify_content": null,
      "justify_items": null,
      "left": null,
      "margin": null,
      "max_height": null,
      "max_width": null,
      "min_height": null,
      "min_width": null,
      "object_fit": null,
      "object_position": null,
      "order": null,
      "overflow": null,
      "overflow_x": null,
      "overflow_y": null,
      "padding": null,
      "right": null,
      "top": null,
      "visibility": null,
      "width": null
     }
    },
    "4a24d0a8293548a4967c9b7d3cd0fe93": {
     "model_module": "@jupyter-widgets/base",
     "model_module_version": "1.2.0",
     "model_name": "LayoutModel",
     "state": {
      "_model_module": "@jupyter-widgets/base",
      "_model_module_version": "1.2.0",
      "_model_name": "LayoutModel",
      "_view_count": null,
      "_view_module": "@jupyter-widgets/base",
      "_view_module_version": "1.2.0",
      "_view_name": "LayoutView",
      "align_content": null,
      "align_items": null,
      "align_self": null,
      "border": null,
      "bottom": null,
      "display": null,
      "flex": null,
      "flex_flow": null,
      "grid_area": null,
      "grid_auto_columns": null,
      "grid_auto_flow": null,
      "grid_auto_rows": null,
      "grid_column": null,
      "grid_gap": null,
      "grid_row": null,
      "grid_template_areas": null,
      "grid_template_columns": null,
      "grid_template_rows": null,
      "height": null,
      "justify_content": null,
      "justify_items": null,
      "left": null,
      "margin": null,
      "max_height": null,
      "max_width": null,
      "min_height": null,
      "min_width": null,
      "object_fit": null,
      "object_position": null,
      "order": null,
      "overflow": null,
      "overflow_x": null,
      "overflow_y": null,
      "padding": null,
      "right": null,
      "top": null,
      "visibility": null,
      "width": null
     }
    },
    "4adfcca6abeb46bd82ea2f7323c518bb": {
     "model_module": "@jupyter-widgets/controls",
     "model_module_version": "1.5.0",
     "model_name": "ProgressStyleModel",
     "state": {
      "_model_module": "@jupyter-widgets/controls",
      "_model_module_version": "1.5.0",
      "_model_name": "ProgressStyleModel",
      "_view_count": null,
      "_view_module": "@jupyter-widgets/base",
      "_view_module_version": "1.2.0",
      "_view_name": "StyleView",
      "bar_color": null,
      "description_width": ""
     }
    },
    "4f7ac39e566640e29173c7390879ecc2": {
     "model_module": "@jupyter-widgets/controls",
     "model_module_version": "1.5.0",
     "model_name": "ProgressStyleModel",
     "state": {
      "_model_module": "@jupyter-widgets/controls",
      "_model_module_version": "1.5.0",
      "_model_name": "ProgressStyleModel",
      "_view_count": null,
      "_view_module": "@jupyter-widgets/base",
      "_view_module_version": "1.2.0",
      "_view_name": "StyleView",
      "bar_color": null,
      "description_width": ""
     }
    },
    "5b0edbb973ab4b0aa0ff4e6426465dcf": {
     "model_module": "@jupyter-widgets/controls",
     "model_module_version": "1.5.0",
     "model_name": "HTMLModel",
     "state": {
      "_dom_classes": [],
      "_model_module": "@jupyter-widgets/controls",
      "_model_module_version": "1.5.0",
      "_model_name": "HTMLModel",
      "_view_count": null,
      "_view_module": "@jupyter-widgets/controls",
      "_view_module_version": "1.5.0",
      "_view_name": "HTMLView",
      "description": "",
      "description_tooltip": null,
      "layout": "IPY_MODEL_12aff629989341fdbd8c23465fe43e10",
      "placeholder": "​",
      "style": "IPY_MODEL_9abd89ae79e04ce686c3103cd29af08f",
      "value": "Downloading shards: 100%"
     }
    },
    "60210099713d4f03967b7b738153aabf": {
     "model_module": "@jupyter-widgets/controls",
     "model_module_version": "1.5.0",
     "model_name": "DescriptionStyleModel",
     "state": {
      "_model_module": "@jupyter-widgets/controls",
      "_model_module_version": "1.5.0",
      "_model_name": "DescriptionStyleModel",
      "_view_count": null,
      "_view_module": "@jupyter-widgets/base",
      "_view_module_version": "1.2.0",
      "_view_name": "StyleView",
      "description_width": ""
     }
    },
    "652d98faf01845b38baadf89af5f7c10": {
     "model_module": "@jupyter-widgets/controls",
     "model_module_version": "1.5.0",
     "model_name": "DescriptionStyleModel",
     "state": {
      "_model_module": "@jupyter-widgets/controls",
      "_model_module_version": "1.5.0",
      "_model_name": "DescriptionStyleModel",
      "_view_count": null,
      "_view_module": "@jupyter-widgets/base",
      "_view_module_version": "1.2.0",
      "_view_name": "StyleView",
      "description_width": ""
     }
    },
    "6753ef627c3241efb2f532c68ef26d42": {
     "model_module": "@jupyter-widgets/controls",
     "model_module_version": "1.5.0",
     "model_name": "FloatProgressModel",
     "state": {
      "_dom_classes": [],
      "_model_module": "@jupyter-widgets/controls",
      "_model_module_version": "1.5.0",
      "_model_name": "FloatProgressModel",
      "_view_count": null,
      "_view_module": "@jupyter-widgets/controls",
      "_view_module_version": "1.5.0",
      "_view_name": "ProgressView",
      "bar_style": "success",
      "description": "",
      "description_tooltip": null,
      "layout": "IPY_MODEL_0da0da8ffc18498bb676221d768fd339",
      "max": 26788,
      "min": 0,
      "orientation": "horizontal",
      "style": "IPY_MODEL_217de16416484c92b77b187222607d92",
      "value": 26788
     }
    },
    "686c627bad6149508d52b7a9bbc76dd1": {
     "model_module": "@jupyter-widgets/controls",
     "model_module_version": "1.5.0",
     "model_name": "ProgressStyleModel",
     "state": {
      "_model_module": "@jupyter-widgets/controls",
      "_model_module_version": "1.5.0",
      "_model_name": "ProgressStyleModel",
      "_view_count": null,
      "_view_module": "@jupyter-widgets/base",
      "_view_module_version": "1.2.0",
      "_view_name": "StyleView",
      "bar_color": null,
      "description_width": ""
     }
    },
    "690d47749161426c82dee36209ea1de3": {
     "model_module": "@jupyter-widgets/controls",
     "model_module_version": "1.5.0",
     "model_name": "DescriptionStyleModel",
     "state": {
      "_model_module": "@jupyter-widgets/controls",
      "_model_module_version": "1.5.0",
      "_model_name": "DescriptionStyleModel",
      "_view_count": null,
      "_view_module": "@jupyter-widgets/base",
      "_view_module_version": "1.2.0",
      "_view_name": "StyleView",
      "description_width": ""
     }
    },
    "7022a295aff949ef8243406667d23b99": {
     "model_module": "@jupyter-widgets/controls",
     "model_module_version": "1.5.0",
     "model_name": "HBoxModel",
     "state": {
      "_dom_classes": [],
      "_model_module": "@jupyter-widgets/controls",
      "_model_module_version": "1.5.0",
      "_model_name": "HBoxModel",
      "_view_count": null,
      "_view_module": "@jupyter-widgets/controls",
      "_view_module_version": "1.5.0",
      "_view_name": "HBoxView",
      "box_style": "",
      "children": [
       "IPY_MODEL_b7d815284baa4b1686d62dc7f8370ce6",
       "IPY_MODEL_820c9e5b15c54b5bafc886770059ab80",
       "IPY_MODEL_727f8e555f4147828a65dda4c3d4e5f0"
      ],
      "layout": "IPY_MODEL_f299f204b11f4132bfc771680d9fc563"
     }
    },
    "727f8e555f4147828a65dda4c3d4e5f0": {
     "model_module": "@jupyter-widgets/controls",
     "model_module_version": "1.5.0",
     "model_name": "HTMLModel",
     "state": {
      "_dom_classes": [],
      "_model_module": "@jupyter-widgets/controls",
      "_model_module_version": "1.5.0",
      "_model_name": "HTMLModel",
      "_view_count": null,
      "_view_module": "@jupyter-widgets/controls",
      "_view_module_version": "1.5.0",
      "_view_name": "HTMLView",
      "description": "",
      "description_tooltip": null,
      "layout": "IPY_MODEL_aca12d4a77314027b30b232ec010ef83",
      "placeholder": "​",
      "style": "IPY_MODEL_34719f671b1143f98d4e92611dac6dce",
      "value": " 0/2 [00:00&lt;?, ?it/s]"
     }
    },
    "7cf6c9715f22497a8708eb58e36829dd": {
     "model_module": "@jupyter-widgets/base",
     "model_module_version": "1.2.0",
     "model_name": "LayoutModel",
     "state": {
      "_model_module": "@jupyter-widgets/base",
      "_model_module_version": "1.2.0",
      "_model_name": "LayoutModel",
      "_view_count": null,
      "_view_module": "@jupyter-widgets/base",
      "_view_module_version": "1.2.0",
      "_view_name": "LayoutView",
      "align_content": null,
      "align_items": null,
      "align_self": null,
      "border": null,
      "bottom": null,
      "display": null,
      "flex": null,
      "flex_flow": null,
      "grid_area": null,
      "grid_auto_columns": null,
      "grid_auto_flow": null,
      "grid_auto_rows": null,
      "grid_column": null,
      "grid_gap": null,
      "grid_row": null,
      "grid_template_areas": null,
      "grid_template_columns": null,
      "grid_template_rows": null,
      "height": null,
      "justify_content": null,
      "justify_items": null,
      "left": null,
      "margin": null,
      "max_height": null,
      "max_width": null,
      "min_height": null,
      "min_width": null,
      "object_fit": null,
      "object_position": null,
      "order": null,
      "overflow": null,
      "overflow_x": null,
      "overflow_y": null,
      "padding": null,
      "right": null,
      "top": null,
      "visibility": null,
      "width": null
     }
    },
    "820c9e5b15c54b5bafc886770059ab80": {
     "model_module": "@jupyter-widgets/controls",
     "model_module_version": "1.5.0",
     "model_name": "FloatProgressModel",
     "state": {
      "_dom_classes": [],
      "_model_module": "@jupyter-widgets/controls",
      "_model_module_version": "1.5.0",
      "_model_name": "FloatProgressModel",
      "_view_count": null,
      "_view_module": "@jupyter-widgets/controls",
      "_view_module_version": "1.5.0",
      "_view_name": "ProgressView",
      "bar_style": "",
      "description": "",
      "description_tooltip": null,
      "layout": "IPY_MODEL_01df2cfd842b4168a5b2c9f1822fc875",
      "max": 2,
      "min": 0,
      "orientation": "horizontal",
      "style": "IPY_MODEL_4f7ac39e566640e29173c7390879ecc2",
      "value": 0
     }
    },
    "88f87969ad2444159b84c88ee5dbf13c": {
     "model_module": "@jupyter-widgets/controls",
     "model_module_version": "1.5.0",
     "model_name": "HTMLModel",
     "state": {
      "_dom_classes": [],
      "_model_module": "@jupyter-widgets/controls",
      "_model_module_version": "1.5.0",
      "_model_name": "HTMLModel",
      "_view_count": null,
      "_view_module": "@jupyter-widgets/controls",
      "_view_module_version": "1.5.0",
      "_view_name": "HTMLView",
      "description": "",
      "description_tooltip": null,
      "layout": "IPY_MODEL_4a24d0a8293548a4967c9b7d3cd0fe93",
      "placeholder": "​",
      "style": "IPY_MODEL_ce046e7c5f2741a798666d018a7782db",
      "value": " 3.50G/3.50G [00:24&lt;00:00, 255MB/s]"
     }
    },
    "8a477b2736984ef8a76d7e3878323e8d": {
     "model_module": "@jupyter-widgets/base",
     "model_module_version": "1.2.0",
     "model_name": "LayoutModel",
     "state": {
      "_model_module": "@jupyter-widgets/base",
      "_model_module_version": "1.2.0",
      "_model_name": "LayoutModel",
      "_view_count": null,
      "_view_module": "@jupyter-widgets/base",
      "_view_module_version": "1.2.0",
      "_view_name": "LayoutView",
      "align_content": null,
      "align_items": null,
      "align_self": null,
      "border": null,
      "bottom": null,
      "display": null,
      "flex": null,
      "flex_flow": null,
      "grid_area": null,
      "grid_auto_columns": null,
      "grid_auto_flow": null,
      "grid_auto_rows": null,
      "grid_column": null,
      "grid_gap": null,
      "grid_row": null,
      "grid_template_areas": null,
      "grid_template_columns": null,
      "grid_template_rows": null,
      "height": null,
      "justify_content": null,
      "justify_items": null,
      "left": null,
      "margin": null,
      "max_height": null,
      "max_width": null,
      "min_height": null,
      "min_width": null,
      "object_fit": null,
      "object_position": null,
      "order": null,
      "overflow": null,
      "overflow_x": null,
      "overflow_y": null,
      "padding": null,
      "right": null,
      "top": null,
      "visibility": null,
      "width": null
     }
    },
    "8f0ff2e87fc348b0bb48aa27555a3f49": {
     "model_module": "@jupyter-widgets/controls",
     "model_module_version": "1.5.0",
     "model_name": "HTMLModel",
     "state": {
      "_dom_classes": [],
      "_model_module": "@jupyter-widgets/controls",
      "_model_module_version": "1.5.0",
      "_model_name": "HTMLModel",
      "_view_count": null,
      "_view_module": "@jupyter-widgets/controls",
      "_view_module_version": "1.5.0",
      "_view_name": "HTMLView",
      "description": "",
      "description_tooltip": null,
      "layout": "IPY_MODEL_95da6821ae4041158c26d4b4aa07646d",
      "placeholder": "​",
      "style": "IPY_MODEL_106890bf2ad54901985071bd80e102c5",
      "value": "Downloading (…)l-00002-of-00002.bin: 100%"
     }
    },
    "95da6821ae4041158c26d4b4aa07646d": {
     "model_module": "@jupyter-widgets/base",
     "model_module_version": "1.2.0",
     "model_name": "LayoutModel",
     "state": {
      "_model_module": "@jupyter-widgets/base",
      "_model_module_version": "1.2.0",
      "_model_name": "LayoutModel",
      "_view_count": null,
      "_view_module": "@jupyter-widgets/base",
      "_view_module_version": "1.2.0",
      "_view_name": "LayoutView",
      "align_content": null,
      "align_items": null,
      "align_self": null,
      "border": null,
      "bottom": null,
      "display": null,
      "flex": null,
      "flex_flow": null,
      "grid_area": null,
      "grid_auto_columns": null,
      "grid_auto_flow": null,
      "grid_auto_rows": null,
      "grid_column": null,
      "grid_gap": null,
      "grid_row": null,
      "grid_template_areas": null,
      "grid_template_columns": null,
      "grid_template_rows": null,
      "height": null,
      "justify_content": null,
      "justify_items": null,
      "left": null,
      "margin": null,
      "max_height": null,
      "max_width": null,
      "min_height": null,
      "min_width": null,
      "object_fit": null,
      "object_position": null,
      "order": null,
      "overflow": null,
      "overflow_x": null,
      "overflow_y": null,
      "padding": null,
      "right": null,
      "top": null,
      "visibility": null,
      "width": null
     }
    },
    "96108b6ca9204839af176eda7afd0049": {
     "model_module": "@jupyter-widgets/base",
     "model_module_version": "1.2.0",
     "model_name": "LayoutModel",
     "state": {
      "_model_module": "@jupyter-widgets/base",
      "_model_module_version": "1.2.0",
      "_model_name": "LayoutModel",
      "_view_count": null,
      "_view_module": "@jupyter-widgets/base",
      "_view_module_version": "1.2.0",
      "_view_name": "LayoutView",
      "align_content": null,
      "align_items": null,
      "align_self": null,
      "border": null,
      "bottom": null,
      "display": null,
      "flex": null,
      "flex_flow": null,
      "grid_area": null,
      "grid_auto_columns": null,
      "grid_auto_flow": null,
      "grid_auto_rows": null,
      "grid_column": null,
      "grid_gap": null,
      "grid_row": null,
      "grid_template_areas": null,
      "grid_template_columns": null,
      "grid_template_rows": null,
      "height": null,
      "justify_content": null,
      "justify_items": null,
      "left": null,
      "margin": null,
      "max_height": null,
      "max_width": null,
      "min_height": null,
      "min_width": null,
      "object_fit": null,
      "object_position": null,
      "order": null,
      "overflow": null,
      "overflow_x": null,
      "overflow_y": null,
      "padding": null,
      "right": null,
      "top": null,
      "visibility": null,
      "width": null
     }
    },
    "99eb59e647dc40389ebe7fe6f9bae8d9": {
     "model_module": "@jupyter-widgets/controls",
     "model_module_version": "1.5.0",
     "model_name": "HBoxModel",
     "state": {
      "_dom_classes": [],
      "_model_module": "@jupyter-widgets/controls",
      "_model_module_version": "1.5.0",
      "_model_name": "HBoxModel",
      "_view_count": null,
      "_view_module": "@jupyter-widgets/controls",
      "_view_module_version": "1.5.0",
      "_view_name": "HBoxView",
      "box_style": "",
      "children": [
       "IPY_MODEL_8f0ff2e87fc348b0bb48aa27555a3f49",
       "IPY_MODEL_bf20104fa2ad48c0a86960fb9fe5876a",
       "IPY_MODEL_88f87969ad2444159b84c88ee5dbf13c"
      ],
      "layout": "IPY_MODEL_7cf6c9715f22497a8708eb58e36829dd"
     }
    },
    "9abd89ae79e04ce686c3103cd29af08f": {
     "model_module": "@jupyter-widgets/controls",
     "model_module_version": "1.5.0",
     "model_name": "DescriptionStyleModel",
     "state": {
      "_model_module": "@jupyter-widgets/controls",
      "_model_module_version": "1.5.0",
      "_model_name": "DescriptionStyleModel",
      "_view_count": null,
      "_view_module": "@jupyter-widgets/base",
      "_view_module_version": "1.2.0",
      "_view_name": "StyleView",
      "description_width": ""
     }
    },
    "a2260c5958d04f9a8ef16e9f33045425": {
     "model_module": "@jupyter-widgets/controls",
     "model_module_version": "1.5.0",
     "model_name": "DescriptionStyleModel",
     "state": {
      "_model_module": "@jupyter-widgets/controls",
      "_model_module_version": "1.5.0",
      "_model_name": "DescriptionStyleModel",
      "_view_count": null,
      "_view_module": "@jupyter-widgets/base",
      "_view_module_version": "1.2.0",
      "_view_name": "StyleView",
      "description_width": ""
     }
    },
    "ac0deace83194ef79754ae5cf78242cb": {
     "model_module": "@jupyter-widgets/base",
     "model_module_version": "1.2.0",
     "model_name": "LayoutModel",
     "state": {
      "_model_module": "@jupyter-widgets/base",
      "_model_module_version": "1.2.0",
      "_model_name": "LayoutModel",
      "_view_count": null,
      "_view_module": "@jupyter-widgets/base",
      "_view_module_version": "1.2.0",
      "_view_name": "LayoutView",
      "align_content": null,
      "align_items": null,
      "align_self": null,
      "border": null,
      "bottom": null,
      "display": null,
      "flex": null,
      "flex_flow": null,
      "grid_area": null,
      "grid_auto_columns": null,
      "grid_auto_flow": null,
      "grid_auto_rows": null,
      "grid_column": null,
      "grid_gap": null,
      "grid_row": null,
      "grid_template_areas": null,
      "grid_template_columns": null,
      "grid_template_rows": null,
      "height": null,
      "justify_content": null,
      "justify_items": null,
      "left": null,
      "margin": null,
      "max_height": null,
      "max_width": null,
      "min_height": null,
      "min_width": null,
      "object_fit": null,
      "object_position": null,
      "order": null,
      "overflow": null,
      "overflow_x": null,
      "overflow_y": null,
      "padding": null,
      "right": null,
      "top": null,
      "visibility": null,
      "width": null
     }
    },
    "ac18d1c538f84444861d4255377a603c": {
     "model_module": "@jupyter-widgets/base",
     "model_module_version": "1.2.0",
     "model_name": "LayoutModel",
     "state": {
      "_model_module": "@jupyter-widgets/base",
      "_model_module_version": "1.2.0",
      "_model_name": "LayoutModel",
      "_view_count": null,
      "_view_module": "@jupyter-widgets/base",
      "_view_module_version": "1.2.0",
      "_view_name": "LayoutView",
      "align_content": null,
      "align_items": null,
      "align_self": null,
      "border": null,
      "bottom": null,
      "display": null,
      "flex": null,
      "flex_flow": null,
      "grid_area": null,
      "grid_auto_columns": null,
      "grid_auto_flow": null,
      "grid_auto_rows": null,
      "grid_column": null,
      "grid_gap": null,
      "grid_row": null,
      "grid_template_areas": null,
      "grid_template_columns": null,
      "grid_template_rows": null,
      "height": null,
      "justify_content": null,
      "justify_items": null,
      "left": null,
      "margin": null,
      "max_height": null,
      "max_width": null,
      "min_height": null,
      "min_width": null,
      "object_fit": null,
      "object_position": null,
      "order": null,
      "overflow": null,
      "overflow_x": null,
      "overflow_y": null,
      "padding": null,
      "right": null,
      "top": null,
      "visibility": null,
      "width": null
     }
    },
    "aca12d4a77314027b30b232ec010ef83": {
     "model_module": "@jupyter-widgets/base",
     "model_module_version": "1.2.0",
     "model_name": "LayoutModel",
     "state": {
      "_model_module": "@jupyter-widgets/base",
      "_model_module_version": "1.2.0",
      "_model_name": "LayoutModel",
      "_view_count": null,
      "_view_module": "@jupyter-widgets/base",
      "_view_module_version": "1.2.0",
      "_view_name": "LayoutView",
      "align_content": null,
      "align_items": null,
      "align_self": null,
      "border": null,
      "bottom": null,
      "display": null,
      "flex": null,
      "flex_flow": null,
      "grid_area": null,
      "grid_auto_columns": null,
      "grid_auto_flow": null,
      "grid_auto_rows": null,
      "grid_column": null,
      "grid_gap": null,
      "grid_row": null,
      "grid_template_areas": null,
      "grid_template_columns": null,
      "grid_template_rows": null,
      "height": null,
      "justify_content": null,
      "justify_items": null,
      "left": null,
      "margin": null,
      "max_height": null,
      "max_width": null,
      "min_height": null,
      "min_width": null,
      "object_fit": null,
      "object_position": null,
      "order": null,
      "overflow": null,
      "overflow_x": null,
      "overflow_y": null,
      "padding": null,
      "right": null,
      "top": null,
      "visibility": null,
      "width": null
     }
    },
    "b3ca2dda95c7458aa34e1affd35ce6c5": {
     "model_module": "@jupyter-widgets/controls",
     "model_module_version": "1.5.0",
     "model_name": "HBoxModel",
     "state": {
      "_dom_classes": [],
      "_model_module": "@jupyter-widgets/controls",
      "_model_module_version": "1.5.0",
      "_model_name": "HBoxModel",
      "_view_count": null,
      "_view_module": "@jupyter-widgets/controls",
      "_view_module_version": "1.5.0",
      "_view_name": "HBoxView",
      "box_style": "",
      "children": [
       "IPY_MODEL_290bba95208d41a9859be6fdf0fd9162",
       "IPY_MODEL_6753ef627c3241efb2f532c68ef26d42",
       "IPY_MODEL_c2ba7e405d0c41519270e48af899d6b8"
      ],
      "layout": "IPY_MODEL_8a477b2736984ef8a76d7e3878323e8d"
     }
    },
    "b7d815284baa4b1686d62dc7f8370ce6": {
     "model_module": "@jupyter-widgets/controls",
     "model_module_version": "1.5.0",
     "model_name": "HTMLModel",
     "state": {
      "_dom_classes": [],
      "_model_module": "@jupyter-widgets/controls",
      "_model_module_version": "1.5.0",
      "_model_name": "HTMLModel",
      "_view_count": null,
      "_view_module": "@jupyter-widgets/controls",
      "_view_module_version": "1.5.0",
      "_view_name": "HTMLView",
      "description": "",
      "description_tooltip": null,
      "layout": "IPY_MODEL_13269879221342949b321c2035079068",
      "placeholder": "​",
      "style": "IPY_MODEL_60210099713d4f03967b7b738153aabf",
      "value": "Loading checkpoint shards:   0%"
     }
    },
    "bf20104fa2ad48c0a86960fb9fe5876a": {
     "model_module": "@jupyter-widgets/controls",
     "model_module_version": "1.5.0",
     "model_name": "FloatProgressModel",
     "state": {
      "_dom_classes": [],
      "_model_module": "@jupyter-widgets/controls",
      "_model_module_version": "1.5.0",
      "_model_name": "FloatProgressModel",
      "_view_count": null,
      "_view_module": "@jupyter-widgets/controls",
      "_view_module_version": "1.5.0",
      "_view_name": "ProgressView",
      "bar_style": "success",
      "description": "",
      "description_tooltip": null,
      "layout": "IPY_MODEL_cf21efca556642b494b815577a314b5a",
      "max": 3500316627,
      "min": 0,
      "orientation": "horizontal",
      "style": "IPY_MODEL_3966c4b83dea4e7d92f44985f020c491",
      "value": 3500316627
     }
    },
    "c1f707cb3960413db86ee33ce346e2b0": {
     "model_module": "@jupyter-widgets/controls",
     "model_module_version": "1.5.0",
     "model_name": "DescriptionStyleModel",
     "state": {
      "_model_module": "@jupyter-widgets/controls",
      "_model_module_version": "1.5.0",
      "_model_name": "DescriptionStyleModel",
      "_view_count": null,
      "_view_module": "@jupyter-widgets/base",
      "_view_module_version": "1.2.0",
      "_view_name": "StyleView",
      "description_width": ""
     }
    },
    "c2ba7e405d0c41519270e48af899d6b8": {
     "model_module": "@jupyter-widgets/controls",
     "model_module_version": "1.5.0",
     "model_name": "HTMLModel",
     "state": {
      "_dom_classes": [],
      "_model_module": "@jupyter-widgets/controls",
      "_model_module_version": "1.5.0",
      "_model_name": "HTMLModel",
      "_view_count": null,
      "_view_module": "@jupyter-widgets/controls",
      "_view_module_version": "1.5.0",
      "_view_name": "HTMLView",
      "description": "",
      "description_tooltip": null,
      "layout": "IPY_MODEL_39a7407817004510b85e45949bf4532a",
      "placeholder": "​",
      "style": "IPY_MODEL_0f8bfea3563c4cf0b8a0024e347dfc96",
      "value": " 26.8k/26.8k [00:00&lt;00:00, 1.26MB/s]"
     }
    },
    "ce046e7c5f2741a798666d018a7782db": {
     "model_module": "@jupyter-widgets/controls",
     "model_module_version": "1.5.0",
     "model_name": "DescriptionStyleModel",
     "state": {
      "_model_module": "@jupyter-widgets/controls",
      "_model_module_version": "1.5.0",
      "_model_name": "DescriptionStyleModel",
      "_view_count": null,
      "_view_module": "@jupyter-widgets/base",
      "_view_module_version": "1.2.0",
      "_view_name": "StyleView",
      "description_width": ""
     }
    },
    "cf21efca556642b494b815577a314b5a": {
     "model_module": "@jupyter-widgets/base",
     "model_module_version": "1.2.0",
     "model_name": "LayoutModel",
     "state": {
      "_model_module": "@jupyter-widgets/base",
      "_model_module_version": "1.2.0",
      "_model_name": "LayoutModel",
      "_view_count": null,
      "_view_module": "@jupyter-widgets/base",
      "_view_module_version": "1.2.0",
      "_view_name": "LayoutView",
      "align_content": null,
      "align_items": null,
      "align_self": null,
      "border": null,
      "bottom": null,
      "display": null,
      "flex": null,
      "flex_flow": null,
      "grid_area": null,
      "grid_auto_columns": null,
      "grid_auto_flow": null,
      "grid_auto_rows": null,
      "grid_column": null,
      "grid_gap": null,
      "grid_row": null,
      "grid_template_areas": null,
      "grid_template_columns": null,
      "grid_template_rows": null,
      "height": null,
      "justify_content": null,
      "justify_items": null,
      "left": null,
      "margin": null,
      "max_height": null,
      "max_width": null,
      "min_height": null,
      "min_width": null,
      "object_fit": null,
      "object_position": null,
      "order": null,
      "overflow": null,
      "overflow_x": null,
      "overflow_y": null,
      "padding": null,
      "right": null,
      "top": null,
      "visibility": null,
      "width": null
     }
    },
    "d8439c2c34b44be5a43055af77ece713": {
     "model_module": "@jupyter-widgets/base",
     "model_module_version": "1.2.0",
     "model_name": "LayoutModel",
     "state": {
      "_model_module": "@jupyter-widgets/base",
      "_model_module_version": "1.2.0",
      "_model_name": "LayoutModel",
      "_view_count": null,
      "_view_module": "@jupyter-widgets/base",
      "_view_module_version": "1.2.0",
      "_view_name": "LayoutView",
      "align_content": null,
      "align_items": null,
      "align_self": null,
      "border": null,
      "bottom": null,
      "display": null,
      "flex": null,
      "flex_flow": null,
      "grid_area": null,
      "grid_auto_columns": null,
      "grid_auto_flow": null,
      "grid_auto_rows": null,
      "grid_column": null,
      "grid_gap": null,
      "grid_row": null,
      "grid_template_areas": null,
      "grid_template_columns": null,
      "grid_template_rows": null,
      "height": null,
      "justify_content": null,
      "justify_items": null,
      "left": null,
      "margin": null,
      "max_height": null,
      "max_width": null,
      "min_height": null,
      "min_width": null,
      "object_fit": null,
      "object_position": null,
      "order": null,
      "overflow": null,
      "overflow_x": null,
      "overflow_y": null,
      "padding": null,
      "right": null,
      "top": null,
      "visibility": null,
      "width": null
     }
    },
    "e96aabf90f7341a5b147ce9553e9c14b": {
     "model_module": "@jupyter-widgets/controls",
     "model_module_version": "1.5.0",
     "model_name": "HTMLModel",
     "state": {
      "_dom_classes": [],
      "_model_module": "@jupyter-widgets/controls",
      "_model_module_version": "1.5.0",
      "_model_name": "HTMLModel",
      "_view_count": null,
      "_view_module": "@jupyter-widgets/controls",
      "_view_module_version": "1.5.0",
      "_view_name": "HTMLView",
      "description": "",
      "description_tooltip": null,
      "layout": "IPY_MODEL_1dae3525d2c94656bcda3c8ea2cdf7d6",
      "placeholder": "​",
      "style": "IPY_MODEL_652d98faf01845b38baadf89af5f7c10",
      "value": " 2/2 [01:42&lt;00:00, 46.68s/it]"
     }
    },
    "ec7fe87663d144f8a1aeb477c2d022f4": {
     "model_module": "@jupyter-widgets/controls",
     "model_module_version": "1.5.0",
     "model_name": "HBoxModel",
     "state": {
      "_dom_classes": [],
      "_model_module": "@jupyter-widgets/controls",
      "_model_module_version": "1.5.0",
      "_model_name": "HBoxModel",
      "_view_count": null,
      "_view_module": "@jupyter-widgets/controls",
      "_view_module_version": "1.5.0",
      "_view_name": "HBoxView",
      "box_style": "",
      "children": [
       "IPY_MODEL_5b0edbb973ab4b0aa0ff4e6426465dcf",
       "IPY_MODEL_f8c0ce8212e6458eb7a34f3d3cb14231",
       "IPY_MODEL_e96aabf90f7341a5b147ce9553e9c14b"
      ],
      "layout": "IPY_MODEL_96108b6ca9204839af176eda7afd0049"
     }
    },
    "f299f204b11f4132bfc771680d9fc563": {
     "model_module": "@jupyter-widgets/base",
     "model_module_version": "1.2.0",
     "model_name": "LayoutModel",
     "state": {
      "_model_module": "@jupyter-widgets/base",
      "_model_module_version": "1.2.0",
      "_model_name": "LayoutModel",
      "_view_count": null,
      "_view_module": "@jupyter-widgets/base",
      "_view_module_version": "1.2.0",
      "_view_name": "LayoutView",
      "align_content": null,
      "align_items": null,
      "align_self": null,
      "border": null,
      "bottom": null,
      "display": null,
      "flex": null,
      "flex_flow": null,
      "grid_area": null,
      "grid_auto_columns": null,
      "grid_auto_flow": null,
      "grid_auto_rows": null,
      "grid_column": null,
      "grid_gap": null,
      "grid_row": null,
      "grid_template_areas": null,
      "grid_template_columns": null,
      "grid_template_rows": null,
      "height": null,
      "justify_content": null,
      "justify_items": null,
      "left": null,
      "margin": null,
      "max_height": null,
      "max_width": null,
      "min_height": null,
      "min_width": null,
      "object_fit": null,
      "object_position": null,
      "order": null,
      "overflow": null,
      "overflow_x": null,
      "overflow_y": null,
      "padding": null,
      "right": null,
      "top": null,
      "visibility": null,
      "width": null
     }
    },
    "f2d5d5f9c7e2405c8e9defeab42778d3": {
     "model_module": "@jupyter-widgets/base",
     "model_module_version": "1.2.0",
     "model_name": "LayoutModel",
     "state": {
      "_model_module": "@jupyter-widgets/base",
      "_model_module_version": "1.2.0",
      "_model_name": "LayoutModel",
      "_view_count": null,
      "_view_module": "@jupyter-widgets/base",
      "_view_module_version": "1.2.0",
      "_view_name": "LayoutView",
      "align_content": null,
      "align_items": null,
      "align_self": null,
      "border": null,
      "bottom": null,
      "display": null,
      "flex": null,
      "flex_flow": null,
      "grid_area": null,
      "grid_auto_columns": null,
      "grid_auto_flow": null,
      "grid_auto_rows": null,
      "grid_column": null,
      "grid_gap": null,
      "grid_row": null,
      "grid_template_areas": null,
      "grid_template_columns": null,
      "grid_template_rows": null,
      "height": null,
      "justify_content": null,
      "justify_items": null,
      "left": null,
      "margin": null,
      "max_height": null,
      "max_width": null,
      "min_height": null,
      "min_width": null,
      "object_fit": null,
      "object_position": null,
      "order": null,
      "overflow": null,
      "overflow_x": null,
      "overflow_y": null,
      "padding": null,
      "right": null,
      "top": null,
      "visibility": null,
      "width": null
     }
    },
    "f48c4bd3516d4134b08cf9536d44da37": {
     "model_module": "@jupyter-widgets/controls",
     "model_module_version": "1.5.0",
     "model_name": "HTMLModel",
     "state": {
      "_dom_classes": [],
      "_model_module": "@jupyter-widgets/controls",
      "_model_module_version": "1.5.0",
      "_model_name": "HTMLModel",
      "_view_count": null,
      "_view_module": "@jupyter-widgets/controls",
      "_view_module_version": "1.5.0",
      "_view_name": "HTMLView",
      "description": "",
      "description_tooltip": null,
      "layout": "IPY_MODEL_3c32370319e54395bcc7d129aaab84bd",
      "placeholder": "​",
      "style": "IPY_MODEL_c1f707cb3960413db86ee33ce346e2b0",
      "value": "Downloading (…)l-00001-of-00002.bin: 100%"
     }
    },
    "f8c0ce8212e6458eb7a34f3d3cb14231": {
     "model_module": "@jupyter-widgets/controls",
     "model_module_version": "1.5.0",
     "model_name": "FloatProgressModel",
     "state": {
      "_dom_classes": [],
      "_model_module": "@jupyter-widgets/controls",
      "_model_module_version": "1.5.0",
      "_model_name": "FloatProgressModel",
      "_view_count": null,
      "_view_module": "@jupyter-widgets/controls",
      "_view_module_version": "1.5.0",
      "_view_name": "ProgressView",
      "bar_style": "success",
      "description": "",
      "description_tooltip": null,
      "layout": "IPY_MODEL_d8439c2c34b44be5a43055af77ece713",
      "max": 2,
      "min": 0,
      "orientation": "horizontal",
      "style": "IPY_MODEL_4adfcca6abeb46bd82ea2f7323c518bb",
      "value": 2
     }
    }
   }
  }
 },
 "nbformat": 4,
 "nbformat_minor": 4
}
